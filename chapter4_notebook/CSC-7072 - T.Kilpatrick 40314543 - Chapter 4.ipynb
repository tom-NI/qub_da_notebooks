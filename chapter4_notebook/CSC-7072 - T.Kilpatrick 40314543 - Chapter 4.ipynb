{
 "cells": [
  {
   "cell_type": "markdown",
   "id": "c99fe2f8",
   "metadata": {},
   "source": [
    "#  Chapter 4 Notebook - Data cleaning"
   ]
  },
  {
   "cell_type": "markdown",
   "id": "7e80dc08",
   "metadata": {},
   "source": [
    "If you are new to Jupyter notebooks, the following tutorial gives a beginners introduction to how to navigate and use them: https://www.dataquest.io/blog/jupyter-notebook-tutorial/\n",
    "\n",
    "Please ensure you are using the latest version of python3 and have all the import libraries installed using anaconda before you try to run any code cells;\n",
    "https://www.python.org/downloads/\n",
    "\n",
    "Firstly, in the menu above, click Kernel > Restart and run all to have all code cells executed.\n",
    "\n",
    "https://docs.anaconda.com/anaconda/install/index.html"
   ]
  },
  {
   "cell_type": "markdown",
   "id": "722d076f",
   "metadata": {},
   "source": [
    "# Import libraries"
   ]
  },
  {
   "cell_type": "code",
   "execution_count": 1,
   "id": "f085b007",
   "metadata": {},
   "outputs": [],
   "source": [
    "# imports all libraries in one place to use throughout code cells\n",
    "import numpy as np\n",
    "import pandas as pd\n",
    "import warnings\n",
    "warnings.simplefilter(action='ignore', category=Warning)\n",
    "\n",
    "#python regex library for checking strings\n",
    "import re\n",
    "\n",
    "# the following are visualisation libraries\n",
    "# this first line causes plots to be output directly below the code cells that produced them.\n",
    "%matplotlib inline\n",
    "import matplotlib.pyplot as plt\n",
    "import matplotlib\n",
    "import seaborn as sns\n",
    "\n",
    "# libraries for scaling and normalising an exponential distribution\n",
    "# mlxtend must be installed as a seperate library from http://rasbt.github.io/mlxtend/installation/\n",
    "from scipy import stats\n",
    "from mlxtend.preprocessing import minmax_scaling"
   ]
  },
  {
   "cell_type": "code",
   "execution_count": 2,
   "id": "f9691901",
   "metadata": {},
   "outputs": [],
   "source": [
    "# variables to define plot sizes for this notebook\n",
    "# Modify as required for smaller screens to change size of plots\n",
    "plot_size_square = (8,8)\n",
    "plot_size_medium = (12,8)\n",
    "plot_size_rectangle = (16,8)"
   ]
  },
  {
   "cell_type": "markdown",
   "id": "e259eb4f",
   "metadata": {},
   "source": [
    "# Import Dataset"
   ]
  },
  {
   "cell_type": "code",
   "execution_count": 3,
   "id": "161fc834",
   "metadata": {},
   "outputs": [
    {
     "data": {
      "text/plain": [
       "(168, 11)"
      ]
     },
     "execution_count": 3,
     "metadata": {},
     "output_type": "execute_result"
    }
   ],
   "source": [
    "# import the dataset from a source file in the same directory\n",
    "# dataset link : https://www.opendatani.gov.uk/dataset/00ae9bce-37d3-41f2-abfb-ecc8a1ff1fe4/resource/32176bf0-08e8-41ed-af4e-1d69db72766b/download/construction-contracts-2018.19-year.csv\n",
    "# pandas has a lot of 'read_' functions - the full list is here: https://pandas.pydata.org/pandas-docs/stable/user_guide/io.html\n",
    "df = pd.read_csv('construction-contracts-2018.19-year.csv')\n",
    "\n",
    "# see the rows and columns output to ensure the import was successful\n",
    "df.shape"
   ]
  },
  {
   "cell_type": "markdown",
   "id": "51b619e2",
   "metadata": {},
   "source": [
    "We would like to see the state of the data before visualising and cleaning"
   ]
  },
  {
   "cell_type": "code",
   "execution_count": 4,
   "id": "89443ed6",
   "metadata": {},
   "outputs": [
    {
     "data": {
      "text/html": [
       "<div>\n",
       "<style scoped>\n",
       "    .dataframe tbody tr th:only-of-type {\n",
       "        vertical-align: middle;\n",
       "    }\n",
       "\n",
       "    .dataframe tbody tr th {\n",
       "        vertical-align: top;\n",
       "    }\n",
       "\n",
       "    .dataframe thead th {\n",
       "        text-align: right;\n",
       "    }\n",
       "</style>\n",
       "<table border=\"1\" class=\"dataframe\">\n",
       "  <thead>\n",
       "    <tr style=\"text-align: right;\">\n",
       "      <th></th>\n",
       "      <th>Title</th>\n",
       "      <th>Awarded value</th>\n",
       "      <th>Date of Award</th>\n",
       "      <th>Company name</th>\n",
       "      <th>Street</th>\n",
       "      <th>City</th>\n",
       "      <th>Postal code</th>\n",
       "      <th>Contract awarded by</th>\n",
       "      <th>Basis for DAC Award</th>\n",
       "      <th>Latitude</th>\n",
       "      <th>Longitude</th>\n",
       "    </tr>\n",
       "  </thead>\n",
       "  <tbody>\n",
       "    <tr>\n",
       "      <th>0</th>\n",
       "      <td>SE1239829-M Replacement of Air Handling Unit a...</td>\n",
       "      <td>�112,668</td>\n",
       "      <td>05/04/2018</td>\n",
       "      <td>William Coates Ltd</td>\n",
       "      <td>37 Mallusk Road, Newtownabbey, Co.Antrim</td>\n",
       "      <td>BELFAST</td>\n",
       "      <td>BT36 4PP</td>\n",
       "      <td>South Eastern Health &amp; Social Care Trust</td>\n",
       "      <td>NaN</td>\n",
       "      <td>54.67474</td>\n",
       "      <td>-5.98721</td>\n",
       "    </tr>\n",
       "    <tr>\n",
       "      <th>1</th>\n",
       "      <td>SE1240005-M Refurbishment of plant room at Riv...</td>\n",
       "      <td>�259,165</td>\n",
       "      <td>05/04/2018</td>\n",
       "      <td>Irwin M&amp;E Ltd</td>\n",
       "      <td>Unit 4 Diviny Drive</td>\n",
       "      <td>CRAIGAVON</td>\n",
       "      <td>BT63 5WE</td>\n",
       "      <td>South Eastern Health &amp; Social Mare Trust</td>\n",
       "      <td>NaN</td>\n",
       "      <td>54.44822</td>\n",
       "      <td>-6.41513</td>\n",
       "    </tr>\n",
       "    <tr>\n",
       "      <th>2</th>\n",
       "      <td>Maydown PSNI Station Conversion to Gas - Vario...</td>\n",
       "      <td>�526,045.10</td>\n",
       "      <td>17/04/2018</td>\n",
       "      <td>WIthheld</td>\n",
       "      <td>WIthheld</td>\n",
       "      <td>WIthheld</td>\n",
       "      <td>WIthheld</td>\n",
       "      <td>Northern Ireland Policing Board</td>\n",
       "      <td>NaN</td>\n",
       "      <td>NaN</td>\n",
       "      <td>NaN</td>\n",
       "    </tr>\n",
       "    <tr>\n",
       "      <th>3</th>\n",
       "      <td>PSNI Estate � Electronic Access Control Systems</td>\n",
       "      <td>�3,804,463.88</td>\n",
       "      <td>24/04/2018</td>\n",
       "      <td>WIthheld</td>\n",
       "      <td>WIthheld</td>\n",
       "      <td>WIthheld</td>\n",
       "      <td>WIthheld</td>\n",
       "      <td>Northern Ireland Policing Board</td>\n",
       "      <td>NaN</td>\n",
       "      <td>NaN</td>\n",
       "      <td>NaN</td>\n",
       "    </tr>\n",
       "    <tr>\n",
       "      <th>4</th>\n",
       "      <td>Peace Walls Maintenance Contract</td>\n",
       "      <td>�127,875.00</td>\n",
       "      <td>04/05/2018</td>\n",
       "      <td>WIthheld</td>\n",
       "      <td>WIthheld</td>\n",
       "      <td>WIthheld</td>\n",
       "      <td>WIthheld</td>\n",
       "      <td>Department of Justice</td>\n",
       "      <td>NaN</td>\n",
       "      <td>NaN</td>\n",
       "      <td>NaN</td>\n",
       "    </tr>\n",
       "  </tbody>\n",
       "</table>\n",
       "</div>"
      ],
      "text/plain": [
       "                                               Title   Awarded value  \\\n",
       "0  SE1239829-M Replacement of Air Handling Unit a...       �112,668    \n",
       "1  SE1240005-M Refurbishment of plant room at Riv...       �259,165    \n",
       "2  Maydown PSNI Station Conversion to Gas - Vario...    �526,045.10    \n",
       "3    PSNI Estate � Electronic Access Control Systems  �3,804,463.88    \n",
       "4                   Peace Walls Maintenance Contract    �127,875.00    \n",
       "\n",
       "  Date of Award        Company name  \\\n",
       "0    05/04/2018  William Coates Ltd   \n",
       "1    05/04/2018       Irwin M&E Ltd   \n",
       "2    17/04/2018            WIthheld   \n",
       "3    24/04/2018            WIthheld   \n",
       "4    04/05/2018            WIthheld   \n",
       "\n",
       "                                      Street       City Postal code  \\\n",
       "0  37 Mallusk Road, Newtownabbey, Co.Antrim     BELFAST    BT36 4PP   \n",
       "1                       Unit 4 Diviny Drive   CRAIGAVON    BT63 5WE   \n",
       "2                                   WIthheld   WIthheld    WIthheld   \n",
       "3                                   WIthheld   WIthheld    WIthheld   \n",
       "4                                   WIthheld   WIthheld    WIthheld   \n",
       "\n",
       "                        Contract awarded by Basis for DAC Award  Latitude  \\\n",
       "0  South Eastern Health & Social Care Trust                 NaN  54.67474   \n",
       "1  South Eastern Health & Social Mare Trust                 NaN  54.44822   \n",
       "2           Northern Ireland Policing Board                 NaN       NaN   \n",
       "3           Northern Ireland Policing Board                 NaN       NaN   \n",
       "4                     Department of Justice                 NaN       NaN   \n",
       "\n",
       "   Longitude  \n",
       "0   -5.98721  \n",
       "1   -6.41513  \n",
       "2        NaN  \n",
       "3        NaN  \n",
       "4        NaN  "
      ]
     },
     "execution_count": 4,
     "metadata": {},
     "output_type": "execute_result"
    }
   ],
   "source": [
    "# print out the top 5 rows to see how the data looks\n",
    "df.head()"
   ]
  },
  {
   "cell_type": "markdown",
   "id": "ff0b4959",
   "metadata": {},
   "source": [
    "The column header names are all clear, we dont need to rename any of those for future analysts."
   ]
  },
  {
   "cell_type": "code",
   "execution_count": 5,
   "id": "d86b185f",
   "metadata": {},
   "outputs": [
    {
     "data": {
      "text/html": [
       "<div>\n",
       "<style scoped>\n",
       "    .dataframe tbody tr th:only-of-type {\n",
       "        vertical-align: middle;\n",
       "    }\n",
       "\n",
       "    .dataframe tbody tr th {\n",
       "        vertical-align: top;\n",
       "    }\n",
       "\n",
       "    .dataframe thead th {\n",
       "        text-align: right;\n",
       "    }\n",
       "</style>\n",
       "<table border=\"1\" class=\"dataframe\">\n",
       "  <thead>\n",
       "    <tr style=\"text-align: right;\">\n",
       "      <th></th>\n",
       "      <th>Title</th>\n",
       "      <th>Awarded value</th>\n",
       "      <th>Date of Award</th>\n",
       "      <th>Company name</th>\n",
       "      <th>Street</th>\n",
       "      <th>City</th>\n",
       "      <th>Postal code</th>\n",
       "      <th>Contract awarded by</th>\n",
       "      <th>Basis for DAC Award</th>\n",
       "      <th>Latitude</th>\n",
       "      <th>Longitude</th>\n",
       "    </tr>\n",
       "  </thead>\n",
       "  <tbody>\n",
       "    <tr>\n",
       "      <th>163</th>\n",
       "      <td>NaN</td>\n",
       "      <td>NaN</td>\n",
       "      <td>NaN</td>\n",
       "      <td>NaN</td>\n",
       "      <td>NaN</td>\n",
       "      <td>NaN</td>\n",
       "      <td>NaN</td>\n",
       "      <td>NaN</td>\n",
       "      <td>NaN</td>\n",
       "      <td>NaN</td>\n",
       "      <td>NaN</td>\n",
       "    </tr>\n",
       "    <tr>\n",
       "      <th>164</th>\n",
       "      <td>NaN</td>\n",
       "      <td>NaN</td>\n",
       "      <td>NaN</td>\n",
       "      <td>NaN</td>\n",
       "      <td>NaN</td>\n",
       "      <td>NaN</td>\n",
       "      <td>NaN</td>\n",
       "      <td>NaN</td>\n",
       "      <td>NaN</td>\n",
       "      <td>NaN</td>\n",
       "      <td>NaN</td>\n",
       "    </tr>\n",
       "    <tr>\n",
       "      <th>165</th>\n",
       "      <td>NaN</td>\n",
       "      <td>NaN</td>\n",
       "      <td>NaN</td>\n",
       "      <td>NaN</td>\n",
       "      <td>NaN</td>\n",
       "      <td>NaN</td>\n",
       "      <td>NaN</td>\n",
       "      <td>NaN</td>\n",
       "      <td>NaN</td>\n",
       "      <td>NaN</td>\n",
       "      <td>NaN</td>\n",
       "    </tr>\n",
       "    <tr>\n",
       "      <th>166</th>\n",
       "      <td>NaN</td>\n",
       "      <td>NaN</td>\n",
       "      <td>NaN</td>\n",
       "      <td>NaN</td>\n",
       "      <td>NaN</td>\n",
       "      <td>NaN</td>\n",
       "      <td>NaN</td>\n",
       "      <td>NaN</td>\n",
       "      <td>NaN</td>\n",
       "      <td>NaN</td>\n",
       "      <td>NaN</td>\n",
       "    </tr>\n",
       "    <tr>\n",
       "      <th>167</th>\n",
       "      <td>NaN</td>\n",
       "      <td>* The exact value is not known at the point of...</td>\n",
       "      <td>NaN</td>\n",
       "      <td>NaN</td>\n",
       "      <td>NaN</td>\n",
       "      <td>NaN</td>\n",
       "      <td>NaN</td>\n",
       "      <td>NaN</td>\n",
       "      <td>NaN</td>\n",
       "      <td>NaN</td>\n",
       "      <td>NaN</td>\n",
       "    </tr>\n",
       "  </tbody>\n",
       "</table>\n",
       "</div>"
      ],
      "text/plain": [
       "    Title                                      Awarded value Date of Award  \\\n",
       "163   NaN                                                NaN           NaN   \n",
       "164   NaN                                                NaN           NaN   \n",
       "165   NaN                                                NaN           NaN   \n",
       "166   NaN                                                NaN           NaN   \n",
       "167   NaN  * The exact value is not known at the point of...           NaN   \n",
       "\n",
       "    Company name Street City Postal code Contract awarded by  \\\n",
       "163          NaN    NaN  NaN         NaN                 NaN   \n",
       "164          NaN    NaN  NaN         NaN                 NaN   \n",
       "165          NaN    NaN  NaN         NaN                 NaN   \n",
       "166          NaN    NaN  NaN         NaN                 NaN   \n",
       "167          NaN    NaN  NaN         NaN                 NaN   \n",
       "\n",
       "    Basis for DAC Award  Latitude  Longitude  \n",
       "163                 NaN       NaN        NaN  \n",
       "164                 NaN       NaN        NaN  \n",
       "165                 NaN       NaN        NaN  \n",
       "166                 NaN       NaN        NaN  \n",
       "167                 NaN       NaN        NaN  "
      ]
     },
     "execution_count": 5,
     "metadata": {},
     "output_type": "execute_result"
    }
   ],
   "source": [
    "# print the bottom 5 rows of the dataframe to see if there are issues at the bottom\n",
    "df.tail()"
   ]
  },
  {
   "cell_type": "markdown",
   "id": "70fbda41",
   "metadata": {},
   "source": [
    "One stray cell at the bottom of the imported CSV file has data, creating a lot of empty rows, we need to trim unnecessary rows from the bottom of the dataframe."
   ]
  },
  {
   "cell_type": "code",
   "execution_count": 6,
   "id": "8e0d2833",
   "metadata": {},
   "outputs": [
    {
     "data": {
      "text/html": [
       "<div>\n",
       "<style scoped>\n",
       "    .dataframe tbody tr th:only-of-type {\n",
       "        vertical-align: middle;\n",
       "    }\n",
       "\n",
       "    .dataframe tbody tr th {\n",
       "        vertical-align: top;\n",
       "    }\n",
       "\n",
       "    .dataframe thead th {\n",
       "        text-align: right;\n",
       "    }\n",
       "</style>\n",
       "<table border=\"1\" class=\"dataframe\">\n",
       "  <thead>\n",
       "    <tr style=\"text-align: right;\">\n",
       "      <th></th>\n",
       "      <th>Title</th>\n",
       "      <th>Awarded value</th>\n",
       "      <th>Date of Award</th>\n",
       "      <th>Company name</th>\n",
       "      <th>Street</th>\n",
       "      <th>City</th>\n",
       "      <th>Postal code</th>\n",
       "      <th>Contract awarded by</th>\n",
       "      <th>Basis for DAC Award</th>\n",
       "      <th>Latitude</th>\n",
       "      <th>Longitude</th>\n",
       "    </tr>\n",
       "  </thead>\n",
       "  <tbody>\n",
       "    <tr>\n",
       "      <th>140</th>\n",
       "      <td>NaN</td>\n",
       "      <td>NaN</td>\n",
       "      <td>NaN</td>\n",
       "      <td>NaN</td>\n",
       "      <td>NaN</td>\n",
       "      <td>NaN</td>\n",
       "      <td>NaN</td>\n",
       "      <td>NaN</td>\n",
       "      <td>NaN</td>\n",
       "      <td>NaN</td>\n",
       "      <td>NaN</td>\n",
       "    </tr>\n",
       "    <tr>\n",
       "      <th>141</th>\n",
       "      <td>NaN</td>\n",
       "      <td>NaN</td>\n",
       "      <td>NaN</td>\n",
       "      <td>NaN</td>\n",
       "      <td>NaN</td>\n",
       "      <td>NaN</td>\n",
       "      <td>NaN</td>\n",
       "      <td>NaN</td>\n",
       "      <td>NaN</td>\n",
       "      <td>NaN</td>\n",
       "      <td>NaN</td>\n",
       "    </tr>\n",
       "    <tr>\n",
       "      <th>142</th>\n",
       "      <td>NaN</td>\n",
       "      <td>NaN</td>\n",
       "      <td>NaN</td>\n",
       "      <td>NaN</td>\n",
       "      <td>NaN</td>\n",
       "      <td>NaN</td>\n",
       "      <td>NaN</td>\n",
       "      <td>NaN</td>\n",
       "      <td>NaN</td>\n",
       "      <td>NaN</td>\n",
       "      <td>NaN</td>\n",
       "    </tr>\n",
       "    <tr>\n",
       "      <th>143</th>\n",
       "      <td>NaN</td>\n",
       "      <td>NaN</td>\n",
       "      <td>NaN</td>\n",
       "      <td>NaN</td>\n",
       "      <td>NaN</td>\n",
       "      <td>NaN</td>\n",
       "      <td>NaN</td>\n",
       "      <td>NaN</td>\n",
       "      <td>NaN</td>\n",
       "      <td>NaN</td>\n",
       "      <td>NaN</td>\n",
       "    </tr>\n",
       "    <tr>\n",
       "      <th>144</th>\n",
       "      <td>NaN</td>\n",
       "      <td>NaN</td>\n",
       "      <td>NaN</td>\n",
       "      <td>NaN</td>\n",
       "      <td>NaN</td>\n",
       "      <td>NaN</td>\n",
       "      <td>NaN</td>\n",
       "      <td>NaN</td>\n",
       "      <td>NaN</td>\n",
       "      <td>NaN</td>\n",
       "      <td>NaN</td>\n",
       "    </tr>\n",
       "    <tr>\n",
       "      <th>145</th>\n",
       "      <td>NaN</td>\n",
       "      <td>NaN</td>\n",
       "      <td>NaN</td>\n",
       "      <td>NaN</td>\n",
       "      <td>NaN</td>\n",
       "      <td>NaN</td>\n",
       "      <td>NaN</td>\n",
       "      <td>NaN</td>\n",
       "      <td>NaN</td>\n",
       "      <td>NaN</td>\n",
       "      <td>NaN</td>\n",
       "    </tr>\n",
       "    <tr>\n",
       "      <th>146</th>\n",
       "      <td>NaN</td>\n",
       "      <td>NaN</td>\n",
       "      <td>NaN</td>\n",
       "      <td>NaN</td>\n",
       "      <td>NaN</td>\n",
       "      <td>NaN</td>\n",
       "      <td>NaN</td>\n",
       "      <td>NaN</td>\n",
       "      <td>NaN</td>\n",
       "      <td>NaN</td>\n",
       "      <td>NaN</td>\n",
       "    </tr>\n",
       "    <tr>\n",
       "      <th>147</th>\n",
       "      <td>NaN</td>\n",
       "      <td>NaN</td>\n",
       "      <td>NaN</td>\n",
       "      <td>NaN</td>\n",
       "      <td>NaN</td>\n",
       "      <td>NaN</td>\n",
       "      <td>NaN</td>\n",
       "      <td>NaN</td>\n",
       "      <td>NaN</td>\n",
       "      <td>NaN</td>\n",
       "      <td>NaN</td>\n",
       "    </tr>\n",
       "    <tr>\n",
       "      <th>148</th>\n",
       "      <td>NaN</td>\n",
       "      <td>NaN</td>\n",
       "      <td>NaN</td>\n",
       "      <td>NaN</td>\n",
       "      <td>NaN</td>\n",
       "      <td>NaN</td>\n",
       "      <td>NaN</td>\n",
       "      <td>NaN</td>\n",
       "      <td>NaN</td>\n",
       "      <td>NaN</td>\n",
       "      <td>NaN</td>\n",
       "    </tr>\n",
       "    <tr>\n",
       "      <th>149</th>\n",
       "      <td>NaN</td>\n",
       "      <td>NaN</td>\n",
       "      <td>NaN</td>\n",
       "      <td>NaN</td>\n",
       "      <td>NaN</td>\n",
       "      <td>NaN</td>\n",
       "      <td>NaN</td>\n",
       "      <td>NaN</td>\n",
       "      <td>NaN</td>\n",
       "      <td>NaN</td>\n",
       "      <td>NaN</td>\n",
       "    </tr>\n",
       "    <tr>\n",
       "      <th>150</th>\n",
       "      <td>NaN</td>\n",
       "      <td>NaN</td>\n",
       "      <td>NaN</td>\n",
       "      <td>NaN</td>\n",
       "      <td>NaN</td>\n",
       "      <td>NaN</td>\n",
       "      <td>NaN</td>\n",
       "      <td>NaN</td>\n",
       "      <td>NaN</td>\n",
       "      <td>NaN</td>\n",
       "      <td>NaN</td>\n",
       "    </tr>\n",
       "    <tr>\n",
       "      <th>151</th>\n",
       "      <td>NaN</td>\n",
       "      <td>NaN</td>\n",
       "      <td>NaN</td>\n",
       "      <td>NaN</td>\n",
       "      <td>NaN</td>\n",
       "      <td>NaN</td>\n",
       "      <td>NaN</td>\n",
       "      <td>NaN</td>\n",
       "      <td>NaN</td>\n",
       "      <td>NaN</td>\n",
       "      <td>NaN</td>\n",
       "    </tr>\n",
       "    <tr>\n",
       "      <th>152</th>\n",
       "      <td>NaN</td>\n",
       "      <td>NaN</td>\n",
       "      <td>NaN</td>\n",
       "      <td>NaN</td>\n",
       "      <td>NaN</td>\n",
       "      <td>NaN</td>\n",
       "      <td>NaN</td>\n",
       "      <td>NaN</td>\n",
       "      <td>NaN</td>\n",
       "      <td>NaN</td>\n",
       "      <td>NaN</td>\n",
       "    </tr>\n",
       "    <tr>\n",
       "      <th>153</th>\n",
       "      <td>NaN</td>\n",
       "      <td>NaN</td>\n",
       "      <td>NaN</td>\n",
       "      <td>NaN</td>\n",
       "      <td>NaN</td>\n",
       "      <td>NaN</td>\n",
       "      <td>NaN</td>\n",
       "      <td>NaN</td>\n",
       "      <td>NaN</td>\n",
       "      <td>NaN</td>\n",
       "      <td>NaN</td>\n",
       "    </tr>\n",
       "    <tr>\n",
       "      <th>154</th>\n",
       "      <td>NaN</td>\n",
       "      <td>NaN</td>\n",
       "      <td>NaN</td>\n",
       "      <td>NaN</td>\n",
       "      <td>NaN</td>\n",
       "      <td>NaN</td>\n",
       "      <td>NaN</td>\n",
       "      <td>NaN</td>\n",
       "      <td>NaN</td>\n",
       "      <td>NaN</td>\n",
       "      <td>NaN</td>\n",
       "    </tr>\n",
       "    <tr>\n",
       "      <th>155</th>\n",
       "      <td>NaN</td>\n",
       "      <td>NaN</td>\n",
       "      <td>NaN</td>\n",
       "      <td>NaN</td>\n",
       "      <td>NaN</td>\n",
       "      <td>NaN</td>\n",
       "      <td>NaN</td>\n",
       "      <td>NaN</td>\n",
       "      <td>NaN</td>\n",
       "      <td>NaN</td>\n",
       "      <td>NaN</td>\n",
       "    </tr>\n",
       "    <tr>\n",
       "      <th>156</th>\n",
       "      <td>NaN</td>\n",
       "      <td>NaN</td>\n",
       "      <td>NaN</td>\n",
       "      <td>NaN</td>\n",
       "      <td>NaN</td>\n",
       "      <td>NaN</td>\n",
       "      <td>NaN</td>\n",
       "      <td>NaN</td>\n",
       "      <td>NaN</td>\n",
       "      <td>NaN</td>\n",
       "      <td>NaN</td>\n",
       "    </tr>\n",
       "    <tr>\n",
       "      <th>157</th>\n",
       "      <td>NaN</td>\n",
       "      <td>NaN</td>\n",
       "      <td>NaN</td>\n",
       "      <td>NaN</td>\n",
       "      <td>NaN</td>\n",
       "      <td>NaN</td>\n",
       "      <td>NaN</td>\n",
       "      <td>NaN</td>\n",
       "      <td>NaN</td>\n",
       "      <td>NaN</td>\n",
       "      <td>NaN</td>\n",
       "    </tr>\n",
       "    <tr>\n",
       "      <th>158</th>\n",
       "      <td>NaN</td>\n",
       "      <td>NaN</td>\n",
       "      <td>NaN</td>\n",
       "      <td>NaN</td>\n",
       "      <td>NaN</td>\n",
       "      <td>NaN</td>\n",
       "      <td>NaN</td>\n",
       "      <td>NaN</td>\n",
       "      <td>NaN</td>\n",
       "      <td>NaN</td>\n",
       "      <td>NaN</td>\n",
       "    </tr>\n",
       "    <tr>\n",
       "      <th>159</th>\n",
       "      <td>NaN</td>\n",
       "      <td>NaN</td>\n",
       "      <td>NaN</td>\n",
       "      <td>NaN</td>\n",
       "      <td>NaN</td>\n",
       "      <td>NaN</td>\n",
       "      <td>NaN</td>\n",
       "      <td>NaN</td>\n",
       "      <td>NaN</td>\n",
       "      <td>NaN</td>\n",
       "      <td>NaN</td>\n",
       "    </tr>\n",
       "    <tr>\n",
       "      <th>160</th>\n",
       "      <td>NaN</td>\n",
       "      <td>NaN</td>\n",
       "      <td>NaN</td>\n",
       "      <td>NaN</td>\n",
       "      <td>NaN</td>\n",
       "      <td>NaN</td>\n",
       "      <td>NaN</td>\n",
       "      <td>NaN</td>\n",
       "      <td>NaN</td>\n",
       "      <td>NaN</td>\n",
       "      <td>NaN</td>\n",
       "    </tr>\n",
       "    <tr>\n",
       "      <th>161</th>\n",
       "      <td>NaN</td>\n",
       "      <td>NaN</td>\n",
       "      <td>NaN</td>\n",
       "      <td>NaN</td>\n",
       "      <td>NaN</td>\n",
       "      <td>NaN</td>\n",
       "      <td>NaN</td>\n",
       "      <td>NaN</td>\n",
       "      <td>NaN</td>\n",
       "      <td>NaN</td>\n",
       "      <td>NaN</td>\n",
       "    </tr>\n",
       "    <tr>\n",
       "      <th>162</th>\n",
       "      <td>NaN</td>\n",
       "      <td>NaN</td>\n",
       "      <td>NaN</td>\n",
       "      <td>NaN</td>\n",
       "      <td>NaN</td>\n",
       "      <td>NaN</td>\n",
       "      <td>NaN</td>\n",
       "      <td>NaN</td>\n",
       "      <td>NaN</td>\n",
       "      <td>NaN</td>\n",
       "      <td>NaN</td>\n",
       "    </tr>\n",
       "    <tr>\n",
       "      <th>163</th>\n",
       "      <td>NaN</td>\n",
       "      <td>NaN</td>\n",
       "      <td>NaN</td>\n",
       "      <td>NaN</td>\n",
       "      <td>NaN</td>\n",
       "      <td>NaN</td>\n",
       "      <td>NaN</td>\n",
       "      <td>NaN</td>\n",
       "      <td>NaN</td>\n",
       "      <td>NaN</td>\n",
       "      <td>NaN</td>\n",
       "    </tr>\n",
       "    <tr>\n",
       "      <th>164</th>\n",
       "      <td>NaN</td>\n",
       "      <td>NaN</td>\n",
       "      <td>NaN</td>\n",
       "      <td>NaN</td>\n",
       "      <td>NaN</td>\n",
       "      <td>NaN</td>\n",
       "      <td>NaN</td>\n",
       "      <td>NaN</td>\n",
       "      <td>NaN</td>\n",
       "      <td>NaN</td>\n",
       "      <td>NaN</td>\n",
       "    </tr>\n",
       "    <tr>\n",
       "      <th>165</th>\n",
       "      <td>NaN</td>\n",
       "      <td>NaN</td>\n",
       "      <td>NaN</td>\n",
       "      <td>NaN</td>\n",
       "      <td>NaN</td>\n",
       "      <td>NaN</td>\n",
       "      <td>NaN</td>\n",
       "      <td>NaN</td>\n",
       "      <td>NaN</td>\n",
       "      <td>NaN</td>\n",
       "      <td>NaN</td>\n",
       "    </tr>\n",
       "    <tr>\n",
       "      <th>166</th>\n",
       "      <td>NaN</td>\n",
       "      <td>NaN</td>\n",
       "      <td>NaN</td>\n",
       "      <td>NaN</td>\n",
       "      <td>NaN</td>\n",
       "      <td>NaN</td>\n",
       "      <td>NaN</td>\n",
       "      <td>NaN</td>\n",
       "      <td>NaN</td>\n",
       "      <td>NaN</td>\n",
       "      <td>NaN</td>\n",
       "    </tr>\n",
       "    <tr>\n",
       "      <th>167</th>\n",
       "      <td>NaN</td>\n",
       "      <td>* The exact value is not known at the point of...</td>\n",
       "      <td>NaN</td>\n",
       "      <td>NaN</td>\n",
       "      <td>NaN</td>\n",
       "      <td>NaN</td>\n",
       "      <td>NaN</td>\n",
       "      <td>NaN</td>\n",
       "      <td>NaN</td>\n",
       "      <td>NaN</td>\n",
       "      <td>NaN</td>\n",
       "    </tr>\n",
       "  </tbody>\n",
       "</table>\n",
       "</div>"
      ],
      "text/plain": [
       "    Title                                      Awarded value Date of Award  \\\n",
       "140   NaN                                                NaN           NaN   \n",
       "141   NaN                                                NaN           NaN   \n",
       "142   NaN                                                NaN           NaN   \n",
       "143   NaN                                                NaN           NaN   \n",
       "144   NaN                                                NaN           NaN   \n",
       "145   NaN                                                NaN           NaN   \n",
       "146   NaN                                                NaN           NaN   \n",
       "147   NaN                                                NaN           NaN   \n",
       "148   NaN                                                NaN           NaN   \n",
       "149   NaN                                                NaN           NaN   \n",
       "150   NaN                                                NaN           NaN   \n",
       "151   NaN                                                NaN           NaN   \n",
       "152   NaN                                                NaN           NaN   \n",
       "153   NaN                                                NaN           NaN   \n",
       "154   NaN                                                NaN           NaN   \n",
       "155   NaN                                                NaN           NaN   \n",
       "156   NaN                                                NaN           NaN   \n",
       "157   NaN                                                NaN           NaN   \n",
       "158   NaN                                                NaN           NaN   \n",
       "159   NaN                                                NaN           NaN   \n",
       "160   NaN                                                NaN           NaN   \n",
       "161   NaN                                                NaN           NaN   \n",
       "162   NaN                                                NaN           NaN   \n",
       "163   NaN                                                NaN           NaN   \n",
       "164   NaN                                                NaN           NaN   \n",
       "165   NaN                                                NaN           NaN   \n",
       "166   NaN                                                NaN           NaN   \n",
       "167   NaN  * The exact value is not known at the point of...           NaN   \n",
       "\n",
       "    Company name Street City Postal code Contract awarded by  \\\n",
       "140          NaN    NaN  NaN         NaN                 NaN   \n",
       "141          NaN    NaN  NaN         NaN                 NaN   \n",
       "142          NaN    NaN  NaN         NaN                 NaN   \n",
       "143          NaN    NaN  NaN         NaN                 NaN   \n",
       "144          NaN    NaN  NaN         NaN                 NaN   \n",
       "145          NaN    NaN  NaN         NaN                 NaN   \n",
       "146          NaN    NaN  NaN         NaN                 NaN   \n",
       "147          NaN    NaN  NaN         NaN                 NaN   \n",
       "148          NaN    NaN  NaN         NaN                 NaN   \n",
       "149          NaN    NaN  NaN         NaN                 NaN   \n",
       "150          NaN    NaN  NaN         NaN                 NaN   \n",
       "151          NaN    NaN  NaN         NaN                 NaN   \n",
       "152          NaN    NaN  NaN         NaN                 NaN   \n",
       "153          NaN    NaN  NaN         NaN                 NaN   \n",
       "154          NaN    NaN  NaN         NaN                 NaN   \n",
       "155          NaN    NaN  NaN         NaN                 NaN   \n",
       "156          NaN    NaN  NaN         NaN                 NaN   \n",
       "157          NaN    NaN  NaN         NaN                 NaN   \n",
       "158          NaN    NaN  NaN         NaN                 NaN   \n",
       "159          NaN    NaN  NaN         NaN                 NaN   \n",
       "160          NaN    NaN  NaN         NaN                 NaN   \n",
       "161          NaN    NaN  NaN         NaN                 NaN   \n",
       "162          NaN    NaN  NaN         NaN                 NaN   \n",
       "163          NaN    NaN  NaN         NaN                 NaN   \n",
       "164          NaN    NaN  NaN         NaN                 NaN   \n",
       "165          NaN    NaN  NaN         NaN                 NaN   \n",
       "166          NaN    NaN  NaN         NaN                 NaN   \n",
       "167          NaN    NaN  NaN         NaN                 NaN   \n",
       "\n",
       "    Basis for DAC Award  Latitude  Longitude  \n",
       "140                 NaN       NaN        NaN  \n",
       "141                 NaN       NaN        NaN  \n",
       "142                 NaN       NaN        NaN  \n",
       "143                 NaN       NaN        NaN  \n",
       "144                 NaN       NaN        NaN  \n",
       "145                 NaN       NaN        NaN  \n",
       "146                 NaN       NaN        NaN  \n",
       "147                 NaN       NaN        NaN  \n",
       "148                 NaN       NaN        NaN  \n",
       "149                 NaN       NaN        NaN  \n",
       "150                 NaN       NaN        NaN  \n",
       "151                 NaN       NaN        NaN  \n",
       "152                 NaN       NaN        NaN  \n",
       "153                 NaN       NaN        NaN  \n",
       "154                 NaN       NaN        NaN  \n",
       "155                 NaN       NaN        NaN  \n",
       "156                 NaN       NaN        NaN  \n",
       "157                 NaN       NaN        NaN  \n",
       "158                 NaN       NaN        NaN  \n",
       "159                 NaN       NaN        NaN  \n",
       "160                 NaN       NaN        NaN  \n",
       "161                 NaN       NaN        NaN  \n",
       "162                 NaN       NaN        NaN  \n",
       "163                 NaN       NaN        NaN  \n",
       "164                 NaN       NaN        NaN  \n",
       "165                 NaN       NaN        NaN  \n",
       "166                 NaN       NaN        NaN  \n",
       "167                 NaN       NaN        NaN  "
      ]
     },
     "execution_count": 6,
     "metadata": {},
     "output_type": "execute_result"
    }
   ],
   "source": [
    "# firstly, see how many company names are \"nan\"\n",
    "df[df['Company name'].isnull()]"
   ]
  },
  {
   "cell_type": "code",
   "execution_count": 7,
   "id": "997ec643",
   "metadata": {},
   "outputs": [],
   "source": [
    "# drop (ie. delete) the rows at the end of the the file that dont have any data\n",
    "# uses numpy slicing for the array parameter\n",
    "# read here for more on array slicing : https://www.w3schools.com/python/numpy/numpy_array_slicing.asp\n",
    "df.drop(df.index[140:], axis=0, inplace=True)"
   ]
  },
  {
   "cell_type": "code",
   "execution_count": 8,
   "id": "037189a9",
   "metadata": {},
   "outputs": [
    {
     "data": {
      "text/html": [
       "<div>\n",
       "<style scoped>\n",
       "    .dataframe tbody tr th:only-of-type {\n",
       "        vertical-align: middle;\n",
       "    }\n",
       "\n",
       "    .dataframe tbody tr th {\n",
       "        vertical-align: top;\n",
       "    }\n",
       "\n",
       "    .dataframe thead th {\n",
       "        text-align: right;\n",
       "    }\n",
       "</style>\n",
       "<table border=\"1\" class=\"dataframe\">\n",
       "  <thead>\n",
       "    <tr style=\"text-align: right;\">\n",
       "      <th></th>\n",
       "      <th>Title</th>\n",
       "      <th>Awarded value</th>\n",
       "      <th>Date of Award</th>\n",
       "      <th>Company name</th>\n",
       "      <th>Street</th>\n",
       "      <th>City</th>\n",
       "      <th>Postal code</th>\n",
       "      <th>Contract awarded by</th>\n",
       "      <th>Basis for DAC Award</th>\n",
       "      <th>Latitude</th>\n",
       "      <th>Longitude</th>\n",
       "    </tr>\n",
       "  </thead>\n",
       "  <tbody>\n",
       "    <tr>\n",
       "      <th>135</th>\n",
       "      <td>Provision of Aids &amp; Adaptations Minor Works fo...</td>\n",
       "      <td>�80,000.00</td>\n",
       "      <td>21/03/2019</td>\n",
       "      <td>McGuigan Construction Ltd</td>\n",
       "      <td>38 Garvagh Road</td>\n",
       "      <td>DUNGANNON</td>\n",
       "      <td>BT70 3LS</td>\n",
       "      <td>Northern Health &amp; Social Care Trust</td>\n",
       "      <td>In the public interest</td>\n",
       "      <td>54.53880</td>\n",
       "      <td>-6.81333</td>\n",
       "    </tr>\n",
       "    <tr>\n",
       "      <th>136</th>\n",
       "      <td>Upgrade of CCTV at Royal Courts of Justice, Be...</td>\n",
       "      <td>�250,000.00</td>\n",
       "      <td>22/03/2019</td>\n",
       "      <td>WITHHELD</td>\n",
       "      <td>WITHHELD</td>\n",
       "      <td>WITHHELD</td>\n",
       "      <td>WITHHELD</td>\n",
       "      <td>DOJ</td>\n",
       "      <td>NaN</td>\n",
       "      <td>NaN</td>\n",
       "      <td>NaN</td>\n",
       "    </tr>\n",
       "    <tr>\n",
       "      <th>137</th>\n",
       "      <td>Crumlin Road Gaol CCTV System Refresh</td>\n",
       "      <td>�37,088.00</td>\n",
       "      <td>22/03/2019</td>\n",
       "      <td>VIS Security Solutions Ltd</td>\n",
       "      <td>16-18 Lower Windsor Avenue</td>\n",
       "      <td>Belfast</td>\n",
       "      <td>BT9 7DW</td>\n",
       "      <td>DfI</td>\n",
       "      <td>NaN</td>\n",
       "      <td>54.58104</td>\n",
       "      <td>-5.95010</td>\n",
       "    </tr>\n",
       "    <tr>\n",
       "      <th>138</th>\n",
       "      <td>Electrical Training � IET Regulations (BS 7671...</td>\n",
       "      <td>�11,098.00</td>\n",
       "      <td>22/03/2019</td>\n",
       "      <td>Training Solutions (NI) Ltd</td>\n",
       "      <td>New Horizons\\n4A Steeple Road</td>\n",
       "      <td>Antrim</td>\n",
       "      <td>BT41 1AF</td>\n",
       "      <td>DoF</td>\n",
       "      <td>NaN</td>\n",
       "      <td>54.72096</td>\n",
       "      <td>-6.21025</td>\n",
       "    </tr>\n",
       "    <tr>\n",
       "      <th>139</th>\n",
       "      <td>Invest NI London Office Fitout (Framework Call...</td>\n",
       "      <td>�477,556.80</td>\n",
       "      <td>25/03/2019</td>\n",
       "      <td>Overbury PLC</td>\n",
       "      <td>77 Newman Street</td>\n",
       "      <td>London</td>\n",
       "      <td>W1T 3EW</td>\n",
       "      <td>InvestNI</td>\n",
       "      <td>NaN</td>\n",
       "      <td>51.51741</td>\n",
       "      <td>-0.13592</td>\n",
       "    </tr>\n",
       "  </tbody>\n",
       "</table>\n",
       "</div>"
      ],
      "text/plain": [
       "                                                 Title Awarded value  \\\n",
       "135  Provision of Aids & Adaptations Minor Works fo...   �80,000.00    \n",
       "136  Upgrade of CCTV at Royal Courts of Justice, Be...  �250,000.00    \n",
       "137              Crumlin Road Gaol CCTV System Refresh   �37,088.00    \n",
       "138  Electrical Training � IET Regulations (BS 7671...   �11,098.00    \n",
       "139  Invest NI London Office Fitout (Framework Call...  �477,556.80    \n",
       "\n",
       "    Date of Award                 Company name                         Street  \\\n",
       "135    21/03/2019    McGuigan Construction Ltd                38 Garvagh Road   \n",
       "136    22/03/2019                     WITHHELD                       WITHHELD   \n",
       "137    22/03/2019   VIS Security Solutions Ltd     16-18 Lower Windsor Avenue   \n",
       "138    22/03/2019  Training Solutions (NI) Ltd  New Horizons\\n4A Steeple Road   \n",
       "139    25/03/2019                 Overbury PLC               77 Newman Street   \n",
       "\n",
       "          City Postal code                  Contract awarded by  \\\n",
       "135  DUNGANNON    BT70 3LS  Northern Health & Social Care Trust   \n",
       "136   WITHHELD    WITHHELD                                  DOJ   \n",
       "137    Belfast     BT9 7DW                                  DfI   \n",
       "138     Antrim    BT41 1AF                                  DoF   \n",
       "139     London     W1T 3EW                             InvestNI   \n",
       "\n",
       "        Basis for DAC Award  Latitude  Longitude  \n",
       "135  In the public interest  54.53880   -6.81333  \n",
       "136                     NaN       NaN        NaN  \n",
       "137                     NaN  54.58104   -5.95010  \n",
       "138                     NaN  54.72096   -6.21025  \n",
       "139                     NaN  51.51741   -0.13592  "
      ]
     },
     "execution_count": 8,
     "metadata": {},
     "output_type": "execute_result"
    }
   ],
   "source": [
    "# reprint the bottom of the dataframe to check all rows are useful!\n",
    "df.tail()"
   ]
  },
  {
   "cell_type": "code",
   "execution_count": 9,
   "id": "8d624659",
   "metadata": {},
   "outputs": [
    {
     "name": "stdout",
     "output_type": "stream",
     "text": [
      "<class 'pandas.core.frame.DataFrame'>\n",
      "Int64Index: 140 entries, 0 to 139\n",
      "Data columns (total 11 columns):\n",
      " #   Column               Non-Null Count  Dtype  \n",
      "---  ------               --------------  -----  \n",
      " 0   Title                140 non-null    object \n",
      " 1   Awarded value        136 non-null    object \n",
      " 2   Date of Award        140 non-null    object \n",
      " 3   Company name         140 non-null    object \n",
      " 4   Street               139 non-null    object \n",
      " 5   City                 139 non-null    object \n",
      " 6   Postal code          139 non-null    object \n",
      " 7   Contract awarded by  138 non-null    object \n",
      " 8   Basis for DAC Award  39 non-null     object \n",
      " 9   Latitude             128 non-null    float64\n",
      " 10  Longitude            128 non-null    float64\n",
      "dtypes: float64(2), object(9)\n",
      "memory usage: 13.1+ KB\n"
     ]
    }
   ],
   "source": [
    "# get a summary of the dataset, including the datatype of each column\n",
    "df.info()"
   ]
  },
  {
   "cell_type": "markdown",
   "id": "6729ff7e",
   "metadata": {},
   "source": [
    "We can see the column \"basis for DAC award\" has more null values than not! We can therefore delete this column."
   ]
  },
  {
   "cell_type": "code",
   "execution_count": 10,
   "id": "d20e07a7",
   "metadata": {},
   "outputs": [
    {
     "data": {
      "text/plain": [
       "0"
      ]
     },
     "execution_count": 10,
     "metadata": {},
     "output_type": "execute_result"
    }
   ],
   "source": [
    "# check how many zero values are in the awarded sum column\n",
    "(df['Awarded value'] == 0).sum()"
   ]
  },
  {
   "cell_type": "markdown",
   "id": "353dd24d",
   "metadata": {},
   "source": [
    "Most datatypes are objects, which means they are all strings. We need to change to numeric and date datatypes so we can do computation and visualisation on them. "
   ]
  },
  {
   "cell_type": "code",
   "execution_count": 11,
   "id": "1aea0a5d",
   "metadata": {},
   "outputs": [
    {
     "data": {
      "text/html": [
       "<div>\n",
       "<style scoped>\n",
       "    .dataframe tbody tr th:only-of-type {\n",
       "        vertical-align: middle;\n",
       "    }\n",
       "\n",
       "    .dataframe tbody tr th {\n",
       "        vertical-align: top;\n",
       "    }\n",
       "\n",
       "    .dataframe thead th {\n",
       "        text-align: right;\n",
       "    }\n",
       "</style>\n",
       "<table border=\"1\" class=\"dataframe\">\n",
       "  <thead>\n",
       "    <tr style=\"text-align: right;\">\n",
       "      <th></th>\n",
       "      <th>count</th>\n",
       "      <th>mean</th>\n",
       "      <th>std</th>\n",
       "      <th>min</th>\n",
       "      <th>25%</th>\n",
       "      <th>50%</th>\n",
       "      <th>75%</th>\n",
       "      <th>max</th>\n",
       "    </tr>\n",
       "  </thead>\n",
       "  <tbody>\n",
       "    <tr>\n",
       "      <th>Latitude</th>\n",
       "      <td>128.0</td>\n",
       "      <td>54.432292</td>\n",
       "      <td>0.572582</td>\n",
       "      <td>51.32436</td>\n",
       "      <td>54.439923</td>\n",
       "      <td>54.574755</td>\n",
       "      <td>54.628782</td>\n",
       "      <td>55.12910</td>\n",
       "    </tr>\n",
       "    <tr>\n",
       "      <th>Longitude</th>\n",
       "      <td>128.0</td>\n",
       "      <td>-6.087314</td>\n",
       "      <td>1.089064</td>\n",
       "      <td>-7.59309</td>\n",
       "      <td>-6.566000</td>\n",
       "      <td>-6.030750</td>\n",
       "      <td>-5.910550</td>\n",
       "      <td>-0.13592</td>\n",
       "    </tr>\n",
       "  </tbody>\n",
       "</table>\n",
       "</div>"
      ],
      "text/plain": [
       "           count       mean       std       min        25%        50%  \\\n",
       "Latitude   128.0  54.432292  0.572582  51.32436  54.439923  54.574755   \n",
       "Longitude  128.0  -6.087314  1.089064  -7.59309  -6.566000  -6.030750   \n",
       "\n",
       "                 75%       max  \n",
       "Latitude   54.628782  55.12910  \n",
       "Longitude  -5.910550  -0.13592  "
      ]
     },
     "execution_count": 11,
     "metadata": {},
     "output_type": "execute_result"
    }
   ],
   "source": [
    "# get some high level statistics on numerical data columns\n",
    "df.describe().T"
   ]
  },
  {
   "cell_type": "markdown",
   "id": "0013a19c",
   "metadata": {},
   "source": [
    "## Data cleaning"
   ]
  },
  {
   "cell_type": "code",
   "execution_count": 12,
   "id": "95961673",
   "metadata": {},
   "outputs": [
    {
     "name": "stdout",
     "output_type": "stream",
     "text": [
      "Shape before removing: (140, 11)\n",
      "Shape post deletions: (140, 8)\n"
     ]
    }
   ],
   "source": [
    "# drop unnecessary columns now\n",
    "# documentation : https://pandas.pydata.org/pandas-docs/stable/reference/api/pandas.DataFrame.drop.html\n",
    "# worked example : https://stackoverflow.com/a/18145399/13215135\n",
    "\n",
    "print('Shape before removing: {}'.format(df.shape))\n",
    "df.drop(labels=['Basis for DAC Award', 'Latitude', 'Longitude'],  axis='columns', inplace=True)\n",
    "print('Shape post deletions: {}'.format(df.shape))"
   ]
  },
  {
   "cell_type": "markdown",
   "id": "6b727f09",
   "metadata": {},
   "source": [
    "There are multiple unknown symbols (probably currency) at the front of the numeric \"awarded value\", so we will remove it and the comma delimiter, as we want to ensure this column is numeric for calculations. The Title column has one unknown character in the printout, the table may have more values like that that we cannot see.\n",
    "\n",
    "We therefore want to remove unwanted characters from any column."
   ]
  },
  {
   "cell_type": "code",
   "execution_count": 13,
   "id": "01dd01be",
   "metadata": {},
   "outputs": [
    {
     "data": {
      "text/html": [
       "<div>\n",
       "<style scoped>\n",
       "    .dataframe tbody tr th:only-of-type {\n",
       "        vertical-align: middle;\n",
       "    }\n",
       "\n",
       "    .dataframe tbody tr th {\n",
       "        vertical-align: top;\n",
       "    }\n",
       "\n",
       "    .dataframe thead th {\n",
       "        text-align: right;\n",
       "    }\n",
       "</style>\n",
       "<table border=\"1\" class=\"dataframe\">\n",
       "  <thead>\n",
       "    <tr style=\"text-align: right;\">\n",
       "      <th></th>\n",
       "      <th>Title</th>\n",
       "      <th>Awarded value</th>\n",
       "      <th>Date of Award</th>\n",
       "      <th>Company name</th>\n",
       "      <th>Street</th>\n",
       "      <th>City</th>\n",
       "      <th>Postal code</th>\n",
       "      <th>Contract awarded by</th>\n",
       "    </tr>\n",
       "  </thead>\n",
       "  <tbody>\n",
       "    <tr>\n",
       "      <th>0</th>\n",
       "      <td>SE1239829M Replacement of Air Handling Unit at...</td>\n",
       "      <td>112668</td>\n",
       "      <td>05/04/2018</td>\n",
       "      <td>William Coates Ltd</td>\n",
       "      <td>37 Mallusk Road Newtownabbey Co.Antrim</td>\n",
       "      <td>BELFAST</td>\n",
       "      <td>BT36 4PP</td>\n",
       "      <td>South Eastern Health &amp; Social Care Trust</td>\n",
       "    </tr>\n",
       "    <tr>\n",
       "      <th>1</th>\n",
       "      <td>SE1240005M Refurbishment of plant room at Rive...</td>\n",
       "      <td>259165</td>\n",
       "      <td>05/04/2018</td>\n",
       "      <td>Irwin M&amp;E Ltd</td>\n",
       "      <td>Unit 4 Diviny Drive</td>\n",
       "      <td>CRAIGAVON</td>\n",
       "      <td>BT63 5WE</td>\n",
       "      <td>South Eastern Health &amp; Social Mare Trust</td>\n",
       "    </tr>\n",
       "    <tr>\n",
       "      <th>2</th>\n",
       "      <td>Maydown PSNI Station Conversion to Gas  Variou...</td>\n",
       "      <td>526045.10</td>\n",
       "      <td>17/04/2018</td>\n",
       "      <td>WIthheld</td>\n",
       "      <td>WIthheld</td>\n",
       "      <td>WIthheld</td>\n",
       "      <td>WIthheld</td>\n",
       "      <td>Northern Ireland Policing Board</td>\n",
       "    </tr>\n",
       "    <tr>\n",
       "      <th>3</th>\n",
       "      <td>PSNI Estate  Electronic Access Control Systems</td>\n",
       "      <td>3804463.88</td>\n",
       "      <td>24/04/2018</td>\n",
       "      <td>WIthheld</td>\n",
       "      <td>WIthheld</td>\n",
       "      <td>WIthheld</td>\n",
       "      <td>WIthheld</td>\n",
       "      <td>Northern Ireland Policing Board</td>\n",
       "    </tr>\n",
       "    <tr>\n",
       "      <th>4</th>\n",
       "      <td>Peace Walls Maintenance Contract</td>\n",
       "      <td>127875.00</td>\n",
       "      <td>04/05/2018</td>\n",
       "      <td>WIthheld</td>\n",
       "      <td>WIthheld</td>\n",
       "      <td>WIthheld</td>\n",
       "      <td>WIthheld</td>\n",
       "      <td>Department of Justice</td>\n",
       "    </tr>\n",
       "  </tbody>\n",
       "</table>\n",
       "</div>"
      ],
      "text/plain": [
       "                                               Title Awarded value  \\\n",
       "0  SE1239829M Replacement of Air Handling Unit at...       112668    \n",
       "1  SE1240005M Refurbishment of plant room at Rive...       259165    \n",
       "2  Maydown PSNI Station Conversion to Gas  Variou...    526045.10    \n",
       "3     PSNI Estate  Electronic Access Control Systems   3804463.88    \n",
       "4                   Peace Walls Maintenance Contract    127875.00    \n",
       "\n",
       "  Date of Award        Company name                                   Street  \\\n",
       "0    05/04/2018  William Coates Ltd  37 Mallusk Road Newtownabbey Co.Antrim    \n",
       "1    05/04/2018       Irwin M&E Ltd                     Unit 4 Diviny Drive    \n",
       "2    17/04/2018            WIthheld                                 WIthheld   \n",
       "3    24/04/2018            WIthheld                                 WIthheld   \n",
       "4    04/05/2018            WIthheld                                 WIthheld   \n",
       "\n",
       "        City Postal code                       Contract awarded by  \n",
       "0    BELFAST    BT36 4PP  South Eastern Health & Social Care Trust  \n",
       "1  CRAIGAVON    BT63 5WE  South Eastern Health & Social Mare Trust  \n",
       "2   WIthheld    WIthheld           Northern Ireland Policing Board  \n",
       "3   WIthheld    WIthheld           Northern Ireland Policing Board  \n",
       "4   WIthheld    WIthheld                     Department of Justice  "
      ]
     },
     "execution_count": 13,
     "metadata": {},
     "output_type": "execute_result"
    }
   ],
   "source": [
    "# clean all unused characters out of the all columns for tidiness and to prepare to change datatypes\n",
    "# this uses regex, which is maybe not the most efficient, but it is effective\n",
    "# answer from https://stackoverflow.com/a/49536987/13215135\n",
    "df.replace(regex=True, inplace=True, to_replace=r'[^A-Za-z0-9 .-\\/&]', value=r'')\n",
    "\n",
    "# now print top 5 rows again to see if the tidying worked\n",
    "df.head()"
   ]
  },
  {
   "cell_type": "code",
   "execution_count": 14,
   "id": "889e9409",
   "metadata": {},
   "outputs": [
    {
     "data": {
      "text/html": [
       "<div>\n",
       "<style scoped>\n",
       "    .dataframe tbody tr th:only-of-type {\n",
       "        vertical-align: middle;\n",
       "    }\n",
       "\n",
       "    .dataframe tbody tr th {\n",
       "        vertical-align: top;\n",
       "    }\n",
       "\n",
       "    .dataframe thead th {\n",
       "        text-align: right;\n",
       "    }\n",
       "</style>\n",
       "<table border=\"1\" class=\"dataframe\">\n",
       "  <thead>\n",
       "    <tr style=\"text-align: right;\">\n",
       "      <th></th>\n",
       "      <th>Title</th>\n",
       "      <th>Awarded value</th>\n",
       "      <th>Date of Award</th>\n",
       "      <th>Company name</th>\n",
       "      <th>Street</th>\n",
       "      <th>City</th>\n",
       "      <th>Postal code</th>\n",
       "      <th>Contract awarded by</th>\n",
       "    </tr>\n",
       "  </thead>\n",
       "  <tbody>\n",
       "    <tr>\n",
       "      <th>0</th>\n",
       "      <td>SE1239829M Replacement of Air Handling Unit at...</td>\n",
       "      <td>112668</td>\n",
       "      <td>05/04/2018</td>\n",
       "      <td>William Coates Ltd</td>\n",
       "      <td>37 Mallusk Road Newtownabbey Co.Antrim</td>\n",
       "      <td>BELFAST</td>\n",
       "      <td>BT36 4PP</td>\n",
       "      <td>South Eastern Health  and  Social Care Trust</td>\n",
       "    </tr>\n",
       "    <tr>\n",
       "      <th>1</th>\n",
       "      <td>SE1240005M Refurbishment of plant room at Rive...</td>\n",
       "      <td>259165</td>\n",
       "      <td>05/04/2018</td>\n",
       "      <td>Irwin M and E Ltd</td>\n",
       "      <td>Unit 4 Diviny Drive</td>\n",
       "      <td>CRAIGAVON</td>\n",
       "      <td>BT63 5WE</td>\n",
       "      <td>South Eastern Health  and  Social Mare Trust</td>\n",
       "    </tr>\n",
       "    <tr>\n",
       "      <th>2</th>\n",
       "      <td>Maydown PSNI Station Conversion to Gas  Variou...</td>\n",
       "      <td>526045.10</td>\n",
       "      <td>17/04/2018</td>\n",
       "      <td>WIthheld</td>\n",
       "      <td>WIthheld</td>\n",
       "      <td>WIthheld</td>\n",
       "      <td>WIthheld</td>\n",
       "      <td>Northern Ireland Policing Board</td>\n",
       "    </tr>\n",
       "    <tr>\n",
       "      <th>3</th>\n",
       "      <td>PSNI Estate  Electronic Access Control Systems</td>\n",
       "      <td>3804463.88</td>\n",
       "      <td>24/04/2018</td>\n",
       "      <td>WIthheld</td>\n",
       "      <td>WIthheld</td>\n",
       "      <td>WIthheld</td>\n",
       "      <td>WIthheld</td>\n",
       "      <td>Northern Ireland Policing Board</td>\n",
       "    </tr>\n",
       "    <tr>\n",
       "      <th>4</th>\n",
       "      <td>Peace Walls Maintenance Contract</td>\n",
       "      <td>127875.00</td>\n",
       "      <td>04/05/2018</td>\n",
       "      <td>WIthheld</td>\n",
       "      <td>WIthheld</td>\n",
       "      <td>WIthheld</td>\n",
       "      <td>WIthheld</td>\n",
       "      <td>Department of Justice</td>\n",
       "    </tr>\n",
       "  </tbody>\n",
       "</table>\n",
       "</div>"
      ],
      "text/plain": [
       "                                               Title Awarded value  \\\n",
       "0  SE1239829M Replacement of Air Handling Unit at...       112668    \n",
       "1  SE1240005M Refurbishment of plant room at Rive...       259165    \n",
       "2  Maydown PSNI Station Conversion to Gas  Variou...    526045.10    \n",
       "3     PSNI Estate  Electronic Access Control Systems   3804463.88    \n",
       "4                   Peace Walls Maintenance Contract    127875.00    \n",
       "\n",
       "  Date of Award        Company name                                   Street  \\\n",
       "0    05/04/2018  William Coates Ltd  37 Mallusk Road Newtownabbey Co.Antrim    \n",
       "1    05/04/2018   Irwin M and E Ltd                     Unit 4 Diviny Drive    \n",
       "2    17/04/2018            WIthheld                                 WIthheld   \n",
       "3    24/04/2018            WIthheld                                 WIthheld   \n",
       "4    04/05/2018            WIthheld                                 WIthheld   \n",
       "\n",
       "        City Postal code                           Contract awarded by  \n",
       "0    BELFAST    BT36 4PP  South Eastern Health  and  Social Care Trust  \n",
       "1  CRAIGAVON    BT63 5WE  South Eastern Health  and  Social Mare Trust  \n",
       "2   WIthheld    WIthheld               Northern Ireland Policing Board  \n",
       "3   WIthheld    WIthheld               Northern Ireland Policing Board  \n",
       "4   WIthheld    WIthheld                         Department of Justice  "
      ]
     },
     "execution_count": 14,
     "metadata": {},
     "output_type": "execute_result"
    }
   ],
   "source": [
    "# replace all ampersand's (&) with 'and' for consistency in strings, using regex.\n",
    "df.replace(regex=True, inplace=True, to_replace=r'[&]', value=r' and ')\n",
    "df.head()"
   ]
  },
  {
   "cell_type": "code",
   "execution_count": 15,
   "id": "1419094a",
   "metadata": {},
   "outputs": [
    {
     "data": {
      "text/html": [
       "<div>\n",
       "<style scoped>\n",
       "    .dataframe tbody tr th:only-of-type {\n",
       "        vertical-align: middle;\n",
       "    }\n",
       "\n",
       "    .dataframe tbody tr th {\n",
       "        vertical-align: top;\n",
       "    }\n",
       "\n",
       "    .dataframe thead th {\n",
       "        text-align: right;\n",
       "    }\n",
       "</style>\n",
       "<table border=\"1\" class=\"dataframe\">\n",
       "  <thead>\n",
       "    <tr style=\"text-align: right;\">\n",
       "      <th></th>\n",
       "      <th>Title</th>\n",
       "      <th>Awarded value</th>\n",
       "      <th>Date of Award</th>\n",
       "      <th>Company name</th>\n",
       "      <th>Street</th>\n",
       "      <th>City</th>\n",
       "      <th>Postal code</th>\n",
       "      <th>Contract awarded by</th>\n",
       "    </tr>\n",
       "  </thead>\n",
       "  <tbody>\n",
       "    <tr>\n",
       "      <th>66</th>\n",
       "      <td>TSCBuildingplanned/preventative maintenance an...</td>\n",
       "      <td>TBC</td>\n",
       "      <td>16/10/2018</td>\n",
       "      <td>Combined Facilities Management</td>\n",
       "      <td>Unit 8 Opus Business Park 35 Aughrim Road</td>\n",
       "      <td>Magherafelt</td>\n",
       "      <td>BT45 6BB</td>\n",
       "      <td>NIFRS</td>\n",
       "    </tr>\n",
       "    <tr>\n",
       "      <th>131</th>\n",
       "      <td>Pan Government Integrated Consultant Team Fram...</td>\n",
       "      <td>NaN</td>\n",
       "      <td>14/03/2019</td>\n",
       "      <td>Moore Macdonald  and  Partners</td>\n",
       "      <td>Surveyor House7 Balloo CourtBalloo Drive</td>\n",
       "      <td>Bangor</td>\n",
       "      <td>BT19 7AT</td>\n",
       "      <td>DoF</td>\n",
       "    </tr>\n",
       "    <tr>\n",
       "      <th>132</th>\n",
       "      <td>Pan Government Integrated Consultant Team Fram...</td>\n",
       "      <td>NaN</td>\n",
       "      <td>14/03/2019</td>\n",
       "      <td>Knox  and  Clayton</td>\n",
       "      <td>2A Wallace Avenue</td>\n",
       "      <td>Lisburn</td>\n",
       "      <td>BT27 4AA</td>\n",
       "      <td>DoF</td>\n",
       "    </tr>\n",
       "    <tr>\n",
       "      <th>133</th>\n",
       "      <td>Pan Government Integrated Consultant Team Fram...</td>\n",
       "      <td>NaN</td>\n",
       "      <td>14/03/2019</td>\n",
       "      <td>Gregory Architects Ltd</td>\n",
       "      <td>4 Crescent Gardens</td>\n",
       "      <td>Belfast</td>\n",
       "      <td>BT7 1NS</td>\n",
       "      <td>DoF</td>\n",
       "    </tr>\n",
       "    <tr>\n",
       "      <th>134</th>\n",
       "      <td>Pan Government Integrated Consultant Team Fram...</td>\n",
       "      <td>NaN</td>\n",
       "      <td>14/03/2019</td>\n",
       "      <td>Harry Rolston Architect Ltd</td>\n",
       "      <td>49 Lisleen Road</td>\n",
       "      <td>Belfast</td>\n",
       "      <td>BT5 7SU</td>\n",
       "      <td>DoF</td>\n",
       "    </tr>\n",
       "  </tbody>\n",
       "</table>\n",
       "</div>"
      ],
      "text/plain": [
       "                                                 Title Awarded value  \\\n",
       "66   TSCBuildingplanned/preventative maintenance an...           TBC   \n",
       "131  Pan Government Integrated Consultant Team Fram...           NaN   \n",
       "132  Pan Government Integrated Consultant Team Fram...           NaN   \n",
       "133  Pan Government Integrated Consultant Team Fram...           NaN   \n",
       "134  Pan Government Integrated Consultant Team Fram...           NaN   \n",
       "\n",
       "    Date of Award                    Company name  \\\n",
       "66     16/10/2018  Combined Facilities Management   \n",
       "131    14/03/2019  Moore Macdonald  and  Partners   \n",
       "132    14/03/2019              Knox  and  Clayton   \n",
       "133    14/03/2019          Gregory Architects Ltd   \n",
       "134    14/03/2019     Harry Rolston Architect Ltd   \n",
       "\n",
       "                                        Street         City Postal code  \\\n",
       "66   Unit 8 Opus Business Park 35 Aughrim Road  Magherafelt    BT45 6BB   \n",
       "131   Surveyor House7 Balloo CourtBalloo Drive       Bangor    BT19 7AT   \n",
       "132                          2A Wallace Avenue      Lisburn    BT27 4AA   \n",
       "133                         4 Crescent Gardens      Belfast     BT7 1NS   \n",
       "134                            49 Lisleen Road      Belfast     BT5 7SU   \n",
       "\n",
       "    Contract awarded by  \n",
       "66                NIFRS  \n",
       "131                 DoF  \n",
       "132                 DoF  \n",
       "133                 DoF  \n",
       "134                 DoF  "
      ]
     },
     "execution_count": 15,
     "metadata": {},
     "output_type": "execute_result"
    }
   ],
   "source": [
    "# check if 'awarded value' column is all numeric when its converted \n",
    "# this is done on a new dataframe to avoid polluting the main dataframe\n",
    "# this is done to check if this column is ready to convert to a numeric type\n",
    "# .to_numeric documentation: https://pandas.pydata.org/docs/reference/api/pandas.to_numeric.html\n",
    "# .isnull() method documentation: https://pandas.pydata.org/pandas-docs/stable/reference/api/pandas.isnull.html\n",
    "non_numbers = df[pd.to_numeric(df['Awarded value'], errors='coerce').isnull()]\n",
    "\n",
    "# now print rows that dont have a number as the awarded value\n",
    "non_numbers"
   ]
  },
  {
   "cell_type": "markdown",
   "id": "b5808e08",
   "metadata": {},
   "source": [
    "There are still several cells with non-numeric data, so we need to sort that out before converting this column to be numeric."
   ]
  },
  {
   "cell_type": "code",
   "execution_count": 16,
   "id": "d1998802",
   "metadata": {},
   "outputs": [],
   "source": [
    "# function to check if a string is only digits with one decimal point\n",
    "# otherwise return 0 if the string isnt digits\n",
    "# python documentation : https://docs.python.org/3/library/re.html#re.Pattern.match\n",
    "def convert_non_numbers_to_zero(current_entry):\n",
    "    match = re.search(r'[0-9.?]', current_entry)\n",
    "    if match:\n",
    "        # return the original string and remove whitespace either side\n",
    "        return current_entry.strip()\n",
    "    else:\n",
    "        return '0'\n",
    "\n",
    "# apply the above function to the full awarded value column, first making sure each cell is a string\n",
    "df['Awarded value'] = df['Awarded value'].apply(str).apply(convert_non_numbers_to_zero)"
   ]
  },
  {
   "cell_type": "markdown",
   "id": "67fd969f",
   "metadata": {},
   "source": [
    "It appears now that we have only digits and periods in this columns data, now that the data is \"clean enough\" for conversion to all be floats, we will change the datatype."
   ]
  },
  {
   "cell_type": "code",
   "execution_count": 17,
   "id": "9ed25502",
   "metadata": {},
   "outputs": [],
   "source": [
    "# change the 'awarded value' column to be numeric to do calculations on it\n",
    "# documentation link https://pandas.pydata.org/pandas-docs/stable/reference/api/pandas.to_numeric.html\n",
    "# worked example https://stackoverflow.com/a/28648923/13215135\n",
    "df['Awarded value'] = pd.to_numeric(df['Awarded value'])"
   ]
  },
  {
   "cell_type": "markdown",
   "id": "ae810fdf",
   "metadata": {},
   "source": [
    "## Awarded value - Identifying outliers\n",
    "We will do some visualisations of the Awarded value data to attempt to identify outliers"
   ]
  },
  {
   "cell_type": "code",
   "execution_count": 18,
   "id": "bd50267c",
   "metadata": {},
   "outputs": [
    {
     "data": {
      "image/png": "[encoded data removed]",
      "text/plain": [
       "<Figure size 1152x576 with 1 Axes>"
      ]
     },
     "metadata": {
      "needs_background": "light"
     },
     "output_type": "display_data"
    }
   ],
   "source": [
    "# Chapter 5 report reference - Report plot A\n",
    "# create the figure object that plots with be contained within\n",
    "# documentation : https://matplotlib.org/2.0.2/faq/usage_faq.html\n",
    "fig = plt.figure(figsize = plot_size_rectangle)\n",
    "\n",
    "# Plot both a kernal density estimation and histogram of the Awarded Value column \n",
    "# https://seaborn.pydata.org/generated/seaborn.histplot.html#seaborn.histplot\n",
    "g = sns.histplot(df['Awarded value'], kde=True)\n",
    "p = plt.title('Initial Awarded Value plot (pre cleaning)')"
   ]
  },
  {
   "cell_type": "markdown",
   "id": "13396d1c",
   "metadata": {},
   "source": [
    "There is a huge variance in the volume of contracts by value, which creates a difficult to read plot as this follows an exponential distribution. After £2 million awarded value, it is slightly more difficult to see the number of contracts. There are some contracts that are very valuable, but most contracts appear to be relatively low value. \n",
    "\n",
    "This data is perhaps not helped by the low sample size, so any insights needs to take this into account.\n",
    "\n",
    "We dont want to impute any missing values to be the mean of the distribution as this would be misrepresentative on an exponential distribution, without first having tried to clean outliers and normalize the data."
   ]
  },
  {
   "cell_type": "code",
   "execution_count": 19,
   "id": "5133dfe2",
   "metadata": {},
   "outputs": [
    {
     "data": {
      "image/png": "[encoded data removed]",
      "text/plain": [
       "<Figure size 576x576 with 1 Axes>"
      ]
     },
     "metadata": {
      "needs_background": "light"
     },
     "output_type": "display_data"
    }
   ],
   "source": [
    "# we will look at outliers in rating using a box plot, even though this is an exponential distribution.\n",
    "# the colour has been changed to try make the box easier to visualize\n",
    "# matplotlib colour names are listed here: https://matplotlib.org/stable/gallery/color/named_colors.html\n",
    "plt.figure(figsize = plot_size_square)\n",
    "\n",
    "sns.boxplot(y='Awarded value', data=df, orient='v', color='gold')\n",
    "p = plt.title('Boxplot for Award value')\n",
    "p = plt.ylabel('Contract Value')"
   ]
  },
  {
   "cell_type": "markdown",
   "id": "8a6911e0",
   "metadata": {},
   "source": [
    "This boxplot shows us \"whiskers\" at the edges of a \"normal\" distribution, values outside the \"whiskers\" are mathematically deemed to be outliers. Therefore according to this boxplot, approximately 11 contracts above £2 million in value, are outliers. With the data distribution being exponential, the bottom \"whiskers\" are so close to the interquartile range it makes low end outliers impossible to detect.\n",
    "\n",
    "The interquartile range (the central coloured box), is incredibly narrow, giving us little insight.\n",
    "\n",
    "We need to move onto other outlier detection methods for exponential datasets."
   ]
  },
  {
   "cell_type": "code",
   "execution_count": 20,
   "id": "ef64ba83",
   "metadata": {},
   "outputs": [
    {
     "name": "stdout",
     "output_type": "stream",
     "text": [
      "4.362426803454779\n"
     ]
    }
   ],
   "source": [
    "# Check the skewness value, this is covered in detail in the written report.\n",
    "# documentation: https://pandas.pydata.org/docs/reference/api/pandas.DataFrame.skew.html\n",
    "print(df['Awarded value'].skew())"
   ]
  },
  {
   "cell_type": "markdown",
   "id": "393eae34",
   "metadata": {},
   "source": [
    "The skewness value is well above +1, which means we have a significant skew in our data!\n",
    "This is borne out with the huge variance in the lowest contract being £7440.00 (excluding zero values) and the largest contract value being £11,900,000."
   ]
  },
  {
   "cell_type": "code",
   "execution_count": 21,
   "id": "11f3cd94",
   "metadata": {},
   "outputs": [
    {
     "data": {
      "text/plain": [
       "count         140.000000\n",
       "mean       771593.447286\n",
       "std       1681728.694578\n",
       "min             0.000000\n",
       "25%         48950.862500\n",
       "50%        165245.500000\n",
       "75%        730236.250000\n",
       "max      11900000.000000\n",
       "Name: Awarded value, dtype: object"
      ]
     },
     "execution_count": 21,
     "metadata": {},
     "output_type": "execute_result"
    }
   ],
   "source": [
    "# print the column summary information\n",
    "# format the numbers in non-scientific notation\n",
    "# code from https://stackoverflow.com/a/47207283/13215135\n",
    "df[\"Awarded value\"].describe().apply(lambda x: format(x, 'f'))"
   ]
  },
  {
   "cell_type": "markdown",
   "id": "122bd63b",
   "metadata": {},
   "source": [
    "We will work out the 3 Sigma rule and the IQR extreme outlier test based on the suggestions of the following stackoverflow post:\n",
    "https://stackoverflow.com/questions/2303510/recommended-anomaly-detection-technique-for-simple-one-dimensional-scenario"
   ]
  },
  {
   "cell_type": "code",
   "execution_count": 22,
   "id": "5e70c774",
   "metadata": {},
   "outputs": [
    {
     "name": "stdout",
     "output_type": "stream",
     "text": [
      "5600000.0\n",
      "11900000.0\n",
      "5600000.0\n",
      "10597000.0\n",
      "6370000.0\n"
     ]
    }
   ],
   "source": [
    "# find and print outliers using the three sigma outlier test on the exponential dataset\n",
    "def print_three_sigma_outliers(number, mean, std):\n",
    "    if(abs(number - mean) > (3 * std)):\n",
    "        print(number)\n",
    "\n",
    "# calculate the mean and standard deviation and store in a variable\n",
    "mean = df[\"Awarded value\"].mean()\n",
    "std = df[\"Awarded value\"].std()\n",
    "\n",
    "three_sigma_outliers = df[\"Awarded value\"].apply(print_three_sigma_outliers, args=(mean, 1561154.63))"
   ]
  },
  {
   "cell_type": "code",
   "execution_count": 23,
   "id": "98106f54",
   "metadata": {},
   "outputs": [
    {
     "name": "stdout",
     "output_type": "stream",
     "text": [
      "3804463.88\n",
      "5600000.0\n",
      "11900000.0\n",
      "5600000.0\n",
      "10597000.0\n",
      "6370000.0\n",
      "4000000.0\n",
      "4400000.0\n",
      "3260000.0\n",
      "2980000.0\n"
     ]
    }
   ],
   "source": [
    "# find outliers using the IQR extreme outlier test\n",
    "# quantile method allows the user to define return values over their specified quantile\n",
    "# quantile documentation = https://pandas.pydata.org/pandas-docs/stable/reference/api/pandas.DataFrame.quantile.html\n",
    "q25 = df[\"Awarded value\"].quantile(q=0.25)\n",
    "q75 = df[\"Awarded value\"].quantile(q=0.75)\n",
    "\n",
    "# custom method defined from the stack overflow post: \n",
    "# https://stackoverflow.com/questions/2303510/recommended-anomaly-detection-technique-for-simple-one-dimensional-scenario\n",
    "def print_extreme_outliers(number, q25, q75):\n",
    "    interquartile_range = q75 - q25\n",
    "    if ((number < (q25 - 3.0 * interquartile_range)) | ((q75 + 3.0 * interquartile_range) < number)):\n",
    "        print(number)\n",
    "\n",
    "# now print IQR 'extreme' outliers\n",
    "extreme_outliers = df[\"Awarded value\"].apply(print_extreme_outliers, args=(q25, q75))"
   ]
  },
  {
   "cell_type": "markdown",
   "id": "e1d16efe",
   "metadata": {},
   "source": [
    "The IQR extreme outlier test gives us many more suggested outliers. We need to ensure both methods above are valid for this dataset. To remove all the IQR tests' suggested extreme outliers would reduce our dataset significantly because of its low sample size. As our dataset is exponential, this method above doesnt produce any outliers on the low value side of the distribution."
   ]
  },
  {
   "cell_type": "code",
   "execution_count": 24,
   "id": "fa921b49",
   "metadata": {},
   "outputs": [
    {
     "data": {
      "image/png": "[encoded data removed]",
      "text/plain": [
       "<Figure size 1152x576 with 1 Axes>"
      ]
     },
     "metadata": {
      "needs_background": "light"
     },
     "output_type": "display_data"
    }
   ],
   "source": [
    "# Chapter 5 report reference - Report plot B\n",
    "# Plot the awarded value data using a log scale on the y-axis\n",
    "fig = plt.figure(figsize = plot_size_rectangle)\n",
    "g = sns.histplot(df['Awarded value'], kde=True)\n",
    "p = plt.title('Awarded value plot : y-axis as log scale')\n",
    "ax = fig.add_subplot(111)\n",
    "\n",
    "# set the y-axis to be logarithmic to see gaps more clearly\n",
    "# example: https://stackoverflow.com/a/1183415/13215135\n",
    "ax.set_yscale('log')"
   ]
  },
  {
   "cell_type": "markdown",
   "id": "a20e4fa9",
   "metadata": {},
   "source": [
    "The plot above has a log scale, so every increase in the y axis represents a ten-fold increase in contract numbers. We can now see much more clearly the contract value gaps on the x-axis. This suggests anything with a value of more than £6 million could be a potential outlier?"
   ]
  },
  {
   "cell_type": "code",
   "execution_count": 25,
   "id": "80f4300b",
   "metadata": {},
   "outputs": [
    {
     "data": {
      "text/plain": [
       "0.012316637669014533"
      ]
     },
     "execution_count": 25,
     "metadata": {},
     "output_type": "execute_result"
    }
   ],
   "source": [
    "# normalize the exponential data with a boxcox transformation\n",
    "# refer to the report for more details\n",
    "# handling zero values taken from this stackoverflow post https://stackoverflow.com/a/50181610/13215135\n",
    "positive_data = df[df['Awarded value'] > 0]\n",
    "\n",
    "bcdata, lam = stats.boxcox(positive_data['Awarded value'])\n",
    "\n",
    "# check boxcox lambda is > 0\n",
    "# this is required to proceed with Box Cox transformation (refer stack overflow post above)\n",
    "lam"
   ]
  },
  {
   "cell_type": "code",
   "execution_count": 26,
   "id": "94cf79d4",
   "metadata": {},
   "outputs": [],
   "source": [
    "# generate a new normalized dataframe \n",
    "# documentation: https://numpy.org/doc/stable/reference/generated/numpy.empty_like.html\n",
    "new_normalised_df = np.empty_like(df['Awarded value'])\n",
    "\n",
    "# infill positive data from the boxcox transform first \n",
    "new_normalised_df[df['Awarded value'] > 0] = bcdata\n",
    "\n",
    "# replace any zero value with -1 / lambda\n",
    "# this is discussed in the 'conclusions and further work' section of the report\n",
    "new_normalised_df[df['Awarded value'] == 0] = -1/lam"
   ]
  },
  {
   "cell_type": "code",
   "execution_count": 27,
   "id": "1a11fd7f",
   "metadata": {},
   "outputs": [
    {
     "data": {
      "image/png": "[encoded data removed]",
      "text/plain": [
       "<Figure size 1152x576 with 1 Axes>"
      ]
     },
     "metadata": {
      "needs_background": "light"
     },
     "output_type": "display_data"
    }
   ],
   "source": [
    "# now plot the newly normalized distribution\n",
    "fig = plt.figure(figsize = plot_size_rectangle)\n",
    "g = sns.histplot(new_normalised_df, kde=True)\n",
    "p = plt.title('Awarded Value plot (Normalised)')"
   ]
  },
  {
   "cell_type": "markdown",
   "id": "cd63f55b",
   "metadata": {},
   "source": [
    "Now that we have our normalised distribution plotted, we can clearly see the values that are outliers. Next we will take values less than 1 and make them the median of the distribution. The wisdom of this step is discussed in the written report."
   ]
  },
  {
   "cell_type": "code",
   "execution_count": 28,
   "id": "d0c6954a",
   "metadata": {},
   "outputs": [
    {
     "data": {
      "image/png": "[encoded data removed]",
      "text/plain": [
       "<Figure size 1152x576 with 1 Axes>"
      ]
     },
     "metadata": {
      "needs_background": "light"
     },
     "output_type": "display_data"
    }
   ],
   "source": [
    "# calculate the normalised median\n",
    "normalised_median = np.median(new_normalised_df)\n",
    "\n",
    "# replace any value less than 1 with the normalised median\n",
    "new_normalised_df = np.where(new_normalised_df < 1, normalised_median, new_normalised_df)\n",
    "\n",
    "#now replot the normalized, cleaned up awarded values\n",
    "# Chapter 4 report reference - Report 4 plot A\n",
    "# now plot the newly normalized distribution\n",
    "fig = plt.figure(figsize = plot_size_rectangle)\n",
    "g = sns.histplot(new_normalised_df, kde=True)\n",
    "p = plt.title('Awarded Value : Normalized using Box Cox transformation')"
   ]
  },
  {
   "cell_type": "markdown",
   "id": "3474ae4c",
   "metadata": {},
   "source": [
    "We can see that there is a gap between zero and the left side of the normalised distribution. It is highly probable that there is a financial reporting limit for public procurement, below which no data is released.\n",
    "\n",
    "Aside from this, the first bar is relatively high then the next two bars are lower than we would expect in a gaussian distribution. This chart is perhaps distorted due to the decision to make all zero values the median of the normalized distribution, a better way to deal with this has been discussed in the 'conclusions and further work' section of the report.\n",
    "\n",
    "Now, we will calculate the z-score. This is covered in detail in the written report."
   ]
  },
  {
   "cell_type": "code",
   "execution_count": 29,
   "id": "41930b1d",
   "metadata": {},
   "outputs": [
    {
     "data": {
      "image/png": "[encoded data removed]",
      "text/plain": [
       "<Figure size 1152x576 with 1 Axes>"
      ]
     },
     "metadata": {
      "needs_background": "light"
     },
     "output_type": "display_data"
    }
   ],
   "source": [
    "# Chapter 4 report reference - Report 4 plot B\n",
    "# calculate the z score of the normal distribution\n",
    "# documentation: https://docs.scipy.org/doc/scipy/reference/generated/scipy.stats.zscore.html\n",
    "z_score = stats.zscore(new_normalised_df)\n",
    "\n",
    "# now plot the z-score as a density plot\n",
    "fig = plt.figure(figsize = plot_size_rectangle)\n",
    "g = sns.histplot(z_score, kde=True).set(xlabel='Standard Deviation of the distribution')\n",
    "p = plt.title('Awarded Value : Z score of Contract \\'Awarded value\\', post Box Cox Transformation')"
   ]
  },
  {
   "cell_type": "markdown",
   "id": "d41bde8d",
   "metadata": {},
   "source": [
    "Note the x-axis now represents standard deviations from the mean."
   ]
  },
  {
   "cell_type": "code",
   "execution_count": 30,
   "id": "f87d2250",
   "metadata": {},
   "outputs": [
    {
     "data": {
      "text/plain": [
       "(140,)"
      ]
     },
     "execution_count": 30,
     "metadata": {},
     "output_type": "execute_result"
    }
   ],
   "source": [
    "# get the size of the numpy z_score array pre trimming outliers\n",
    "z_score.shape"
   ]
  },
  {
   "cell_type": "code",
   "execution_count": 31,
   "id": "06d19fd6",
   "metadata": {},
   "outputs": [
    {
     "data": {
      "text/plain": [
       "array([-2.0663841 , -2.03552322, -2.02361229, -1.96276919, -1.89209244,\n",
       "       -1.83021821, -1.77103643, -1.74729728, -1.74729728, -1.72922083,\n",
       "       -1.6974804 , -1.54717246, -1.51355275, -1.48026605, -1.40049434,\n",
       "       -1.40049434, -1.24591152, -1.1484897 , -1.11058734, -1.09551357,\n",
       "       -1.08837384, -0.96422163, -0.9368001 , -0.93075307, -0.93075307,\n",
       "       -0.89232735, -0.88431547, -0.77249667, -0.77226391, -0.77226391,\n",
       "       -0.64646945, -0.60270681, -0.60270681, -0.5586098 , -0.55589633,\n",
       "       -0.55589633, -0.54371536, -0.52976057, -0.52976057, -0.51092294,\n",
       "       -0.47546664, -0.45247126, -0.43831734, -0.3669559 , -0.3669559 ,\n",
       "       -0.36113149, -0.35895963, -0.35718875, -0.35684532, -0.35110309,\n",
       "       -0.33678796, -0.33064916, -0.30728045, -0.2722896 , -0.26369176,\n",
       "       -0.2114704 , -0.2114704 , -0.20450124, -0.20450124, -0.20450124,\n",
       "       -0.20450124, -0.20450124, -0.20450124, -0.20450124, -0.20450124,\n",
       "       -0.20450124, -0.20450124, -0.20450124, -0.20450124, -0.20450124,\n",
       "       -0.19753208, -0.16637847, -0.13390318, -0.0116613 ,  0.01623236,\n",
       "        0.01623236,  0.03401907,  0.03975516,  0.04959164,  0.07174548,\n",
       "        0.08382206,  0.09695895,  0.13990292,  0.25701201,  0.26403228,\n",
       "        0.27441714,  0.33327666,  0.33327666,  0.39309522,  0.41249808,\n",
       "        0.41249808,  0.44339573,  0.44934075,  0.46991503,  0.47782704,\n",
       "        0.50934284,  0.51308463,  0.51982362,  0.53994951,  0.54954289,\n",
       "        0.61017302,  0.6166997 ,  0.64943563,  0.65012017,  0.70441567,\n",
       "        0.73953061,  0.75965606,  0.76256563,  0.76935162,  0.79310961,\n",
       "        0.8081357 ,  0.82567799,  0.85773364,  0.86809509,  0.87660787,\n",
       "        0.95191508,  0.97845969,  0.98980085,  1.02395428,  1.09135079,\n",
       "        1.13008287,  1.20981599,  1.22246971,  1.22782222,  1.22848576,\n",
       "        1.23422643,  1.25716355,  1.27889014,  1.27889014,  1.31074443,\n",
       "        1.59764637,  1.65463569,  1.75279546,  1.78468905,  1.84539439,\n",
       "        1.99931494,  1.99931494,  2.08172947,  2.40860093,  2.48336457])"
      ]
     },
     "execution_count": 31,
     "metadata": {},
     "output_type": "execute_result"
    }
   ],
   "source": [
    "# we want to see the largest and smallest values from the z_score array\n",
    "# therefore sort the numpy array in order so we can see highest and lowest values\n",
    "# documentation: https://numpy.org/doc/stable/reference/generated/numpy.sort.html\n",
    "np.sort(z_score)"
   ]
  },
  {
   "cell_type": "code",
   "execution_count": 32,
   "id": "e3d05320",
   "metadata": {},
   "outputs": [
    {
     "data": {
      "text/plain": [
       "(134,)"
      ]
     },
     "execution_count": 32,
     "metadata": {},
     "output_type": "execute_result"
    }
   ],
   "source": [
    "# now trim the z_score array based on values that are larger and smaller than 2 std deviations from mean\n",
    "# documentation: https://numpy.org/doc/stable/reference/generated/numpy.delete.html\n",
    "trimmed_data = np.delete(z_score, np.where((z_score < -2.0) | (z_score > 2.0)))\n",
    "\n",
    "# see how many values we are left with now we have trimmed outliers\n",
    "trimmed_data.shape"
   ]
  },
  {
   "cell_type": "markdown",
   "id": "449ffde3",
   "metadata": {},
   "source": [
    "We see that there are three values above 2 standard deviations and three values below 2 standard deviations that are suggested outliers. \n",
    "\n",
    "We will see which values these are in the original dataframe."
   ]
  },
  {
   "cell_type": "code",
   "execution_count": 33,
   "id": "5ccc30cc",
   "metadata": {},
   "outputs": [
    {
     "data": {
      "text/plain": [
       "122           0.0\n",
       "66            0.0\n",
       "121           0.0\n",
       "123           0.0\n",
       "124           0.0\n",
       "          ...    \n",
       "24      5600000.0\n",
       "21      5600000.0\n",
       "63      6370000.0\n",
       "55     10597000.0\n",
       "22     11900000.0\n",
       "Name: Awarded value, Length: 140, dtype: float64"
      ]
     },
     "execution_count": 33,
     "metadata": {},
     "output_type": "execute_result"
    }
   ],
   "source": [
    "# now sort and print the list of values from the original data, so we can id the top and bottom three rows\n",
    "awarded_value_series = df[\"Awarded value\"]\n",
    "awarded_value_series.sort_values()"
   ]
  },
  {
   "cell_type": "markdown",
   "id": "7932661b",
   "metadata": {},
   "source": [
    "The outlier detection process above is discussed in more detail in the written report."
   ]
  },
  {
   "cell_type": "markdown",
   "id": "d42fd2c2",
   "metadata": {},
   "source": [
    "## Further data cleaning by column"
   ]
  },
  {
   "cell_type": "markdown",
   "id": "a0c54c85",
   "metadata": {},
   "source": [
    "Now the final dataset cleaning will be completed, starting with cleaning and tidying the Date column"
   ]
  },
  {
   "cell_type": "code",
   "execution_count": 34,
   "id": "02ebfcf0",
   "metadata": {},
   "outputs": [
    {
     "name": "stdout",
     "output_type": "stream",
     "text": [
      "<class 'pandas.core.frame.DataFrame'>\n",
      "Int64Index: 140 entries, 0 to 139\n",
      "Data columns (total 8 columns):\n",
      " #   Column               Non-Null Count  Dtype         \n",
      "---  ------               --------------  -----         \n",
      " 0   Title                140 non-null    object        \n",
      " 1   Awarded value        140 non-null    float64       \n",
      " 2   Date of Award        140 non-null    datetime64[ns]\n",
      " 3   Company name         140 non-null    object        \n",
      " 4   Street               139 non-null    object        \n",
      " 5   City                 139 non-null    object        \n",
      " 6   Postal code          139 non-null    object        \n",
      " 7   Contract awarded by  138 non-null    object        \n",
      "dtypes: datetime64[ns](1), float64(1), object(6)\n",
      "memory usage: 9.8+ KB\n"
     ]
    }
   ],
   "source": [
    "# Report 4 Reference C\n",
    "# convert the date column to be a datetime object\n",
    "# pandas infers the date type for this example for each row - prevents errors when the data is consistent\n",
    "# worked example :  https://stackoverflow.com/a/55826327/13215135\n",
    "df['Date of Award'] = pd.to_datetime(df['Date of Award'])\n",
    "\n",
    "# print dataframe information to check the conversion worked!\n",
    "df.info()"
   ]
  },
  {
   "cell_type": "markdown",
   "id": "4c06b8e3",
   "metadata": {},
   "source": [
    "Next, since our dataset covers one full tax year, we want to visualize the months that projects were awarded to see if there are any issues with that data."
   ]
  },
  {
   "cell_type": "code",
   "execution_count": 35,
   "id": "971b2c98",
   "metadata": {},
   "outputs": [
    {
     "data": {
      "text/plain": [
       "<AxesSubplot:xlabel='Date of Award'>"
      ]
     },
     "execution_count": 35,
     "metadata": {},
     "output_type": "execute_result"
    },
    {
     "data": {
      "image/png": "[encoded data removed]",
      "text/plain": [
       "<Figure size 1152x576 with 1 Axes>"
      ]
     },
     "metadata": {
      "needs_background": "light"
     },
     "output_type": "display_data"
    }
   ],
   "source": [
    "# Chapter 5 report reference - Report plot C\n",
    "# plot months that contracts are awarded vs contract value as this may help us see issues with the dates.\n",
    "\n",
    "# matplotlib (and therefore seaborn) doesnt handle temporal data well, pandas plot() function has been used instead\n",
    "# code found aftr a google search at https://stackoverflow.com/a/63028583/13215135\n",
    "# documentation to plot from pandas: https://pandas.pydata.org/docs/reference/api/pandas.DataFrame.plot.html\n",
    "df1 = df.groupby(df['Date of Award'].dt.to_period('M')).sum()\n",
    "df1 = df1.resample('M').asfreq().fillna(0)\n",
    "df1.plot(kind='bar', figsize = plot_size_rectangle)"
   ]
  },
  {
   "cell_type": "markdown",
   "id": "29016194",
   "metadata": {},
   "source": [
    "Next we will clean the 'City' column: this is the City of the company who won the contract."
   ]
  },
  {
   "cell_type": "code",
   "execution_count": 36,
   "id": "b21b94c8",
   "metadata": {},
   "outputs": [
    {
     "data": {
      "text/plain": [
       "BELFAST          24\n",
       "Belfast          15\n",
       "NEWRY            12\n",
       "CRAIGAVON         7\n",
       "Newry             5\n",
       "WIthheld          4\n",
       "DOWNPATRICK       4\n",
       "DUNGANNON         4\n",
       "COOKSTOWN         4\n",
       "STRABANE          3\n",
       "WITHHELD          3\n",
       "CASTLEDERG        3\n",
       "ARMAGH            3\n",
       "Magherafelt       3\n",
       "OMAGH             3\n",
       "Various           2\n",
       "BANGOR            2\n",
       " Craigavon        2\n",
       "Bangor            2\n",
       "Lisburn           2\n",
       "BALLYMONEY        2\n",
       "NEWTOWNABBEY      2\n",
       "POMEROY           2\n",
       "Withheld          1\n",
       "Newtownabbey      1\n",
       " BELFAST          1\n",
       "SHROPSHIRE        1\n",
       "SAINTFIELD        1\n",
       "Netwnabbey        1\n",
       "Greysteel         1\n",
       "MAGHERA           1\n",
       "Dungannon         1\n",
       "Antrim            1\n",
       "London            1\n",
       "Penarth           1\n",
       "Downpatrick       1\n",
       "Belfast           1\n",
       "Castlewellan      1\n",
       "Epsom             1\n",
       "Omagh             1\n",
       "NORTHAMPTON       1\n",
       "Castlederg        1\n",
       "Dromore           1\n",
       "COLERAINE         1\n",
       "CARRICKFERGUS     1\n",
       "ANTRIM            1\n",
       "Dungiven          1\n",
       "Strabane          1\n",
       "MALLUSK           1\n",
       "Name: City, dtype: int64"
      ]
     },
     "execution_count": 36,
     "metadata": {},
     "output_type": "execute_result"
    }
   ],
   "source": [
    "#count cities and towns as unique values\n",
    "df['City'].value_counts()"
   ]
  },
  {
   "cell_type": "markdown",
   "id": "06ec597e",
   "metadata": {},
   "source": [
    "A lot of these names dont differentiate between upper and lower case, creating duplicates, we can tidy that simply by turning every city name to the same case and capitalizing the words! We also need to strip out white space from left and right side of names before comparing value counts."
   ]
  },
  {
   "cell_type": "code",
   "execution_count": 37,
   "id": "77b9b653",
   "metadata": {},
   "outputs": [
    {
     "data": {
      "text/plain": [
       "Belfast        41\n",
       "Newry          17\n",
       "Craigavon       9\n",
       "Withheld        8\n",
       "Dungannon       5\n",
       "Downpatrick     5\n",
       "Strabane        4\n",
       "Bangor          4\n",
       "Cookstown       4\n",
       "Omagh           4\n",
       "Name: City, dtype: int64"
      ]
     },
     "execution_count": 37,
     "metadata": {},
     "output_type": "execute_result"
    }
   ],
   "source": [
    "# edit the dataframe column to suit the parameters listed above\n",
    "# documentation for python capitalize() method : https://www.w3schools.com/python/ref_string_capitalize.asp \n",
    "df['City'] = df['City'].str.strip().str.capitalize()\n",
    "\n",
    "# lastly, we only want to print the top 10 Towns and Cities.\n",
    "# nlargest() documentation: https://pandas.pydata.org/docs/reference/api/pandas.DataFrame.nlargest.html\n",
    "df['City'].value_counts().nlargest(10)"
   ]
  },
  {
   "cell_type": "code",
   "execution_count": 38,
   "id": "2f9c21ad",
   "metadata": {},
   "outputs": [
    {
     "data": {
      "image/png": "[encoded data removed]",
      "text/plain": [
       "<Figure size 1152x576 with 1 Axes>"
      ]
     },
     "metadata": {
      "needs_background": "light"
     },
     "output_type": "display_data"
    }
   ],
   "source": [
    "# We will produce a plot showing the Towns and Cities with highest representation\n",
    "\n",
    "plt.figure(figsize = plot_size_rectangle)\n",
    "g = sns.countplot(x='City', data=df, order = df['City'].value_counts().index) \n",
    "p = plt.title('Count plot for Winning Companies location')\n",
    "p = plt.xlabel('City / Town')\n",
    "p = plt.ylabel('Count')\n",
    "p = g.set_xticklabels(g.get_xticklabels(), rotation=45, horizontalalignment='right')"
   ]
  },
  {
   "cell_type": "markdown",
   "id": "006a294c",
   "metadata": {},
   "source": [
    "We have another exponential distribution for the location of companies who win projects. \n",
    "\n",
    "Outside of Belfast, we can see that Addresses from the West and South of Northern Ireland are most highly represented. If we wanted a broader view of this we would need to gather many such datasets to examine trends and other variables. How do companies from the South and West dominate in winning contracts?"
   ]
  },
  {
   "cell_type": "markdown",
   "id": "ff1acf52",
   "metadata": {},
   "source": [
    "Next we will clean the awarding body column."
   ]
  },
  {
   "cell_type": "code",
   "execution_count": 39,
   "id": "99d2627b",
   "metadata": {},
   "outputs": [
    {
     "data": {
      "text/plain": [
       "Belfast Health  and  Social Care Trust          41\n",
       "South Eastern Health  and  Social Care Trust    19\n",
       "Western Health  and  Social Care Trust          11\n",
       "DfC                                             10\n",
       "DoF                                              9\n",
       "Southern Health  and  Social Care Trust          6\n",
       "Northern Health  and  Social Care trust          5\n",
       "DfI Rivers Agency                                5\n",
       "Northern Ireland Fire  and  Rescue Service       4\n",
       "Northern Health  and  Social Care Trust          4\n",
       "Northern Ireland Policing Board                  4\n",
       "NIFRS                                            3\n",
       "DE                                               2\n",
       "The Executive Office                             2\n",
       "DOJ                                              2\n",
       "DfI                                              2\n",
       "DAERA                                            1\n",
       "Department of Justice                            1\n",
       "InvestNI                                         1\n",
       "South Eastern Health  and  Social Mare Trust     1\n",
       "NWRC                                             1\n",
       "St MacNissis Educational Trust                   1\n",
       "PSNI                                             1\n",
       "BHSCT                                            1\n",
       "AFBI                                             1\n",
       "Name: Contract awarded by, dtype: int64"
      ]
     },
     "execution_count": 39,
     "metadata": {},
     "output_type": "execute_result"
    }
   ],
   "source": [
    "# print all awarding bodies to see how tidy the data is\n",
    "# value_counts() documentation: https://pandas.pydata.org/docs/reference/api/pandas.Series.value_counts.html\n",
    "df['Contract awarded by'].value_counts()"
   ]
  },
  {
   "cell_type": "markdown",
   "id": "4ade04e7",
   "metadata": {},
   "source": [
    "We can see quite a few abbreviations, and this appears to be creating duplicates - the names will be expanded for clarity for anyone viewing the data. "
   ]
  },
  {
   "cell_type": "code",
   "execution_count": 40,
   "id": "0f649efc",
   "metadata": {},
   "outputs": [],
   "source": [
    "# function to change the name of a public body based on its provided abbreviation\n",
    "# All abbreviations were googled to get the full department name\n",
    "def rename_public_body(name):\n",
    "    if (name == 'DfE'):\n",
    "        return 'Department for Economy'\n",
    "    elif (name == 'DE'):\n",
    "        return 'Department of Education'\n",
    "    elif (name == 'DfC'):\n",
    "        return 'Department for Communities'\n",
    "    elif (name == 'DoF'):\n",
    "        return 'Department of Finance'\n",
    "    elif (name == 'NIFRS'):\n",
    "        return 'Northern Ireland Fire and Rescue Service'\n",
    "    elif (name == 'DOJ' or name == 'DOJ'):\n",
    "        return 'Department of Justice'\n",
    "    elif (name == 'DFI' or name == 'DfI'):\n",
    "        return 'Department for Infrastructure'\n",
    "    elif (name == 'AFBI' or name == 'DAERA'):\n",
    "        return 'Department of Agriculture, Environment and Rural Affairs'\n",
    "    elif (name == 'BHSCT'):\n",
    "        return 'Belfast Health and Social Care Trust'\n",
    "    elif (name == 'NWRC'):\n",
    "        return ' North West Regional College'\n",
    "    elif (name == 'PSNI'):\n",
    "        return 'Police Service of Northern Ireland'\n",
    "    else:\n",
    "        return name\n",
    "    \n",
    "# now change each value in the column based on the function above\n",
    "df['Contract awarded by'] = df['Contract awarded by'].apply(rename_public_body)"
   ]
  },
  {
   "cell_type": "code",
   "execution_count": 41,
   "id": "aad8c62a",
   "metadata": {},
   "outputs": [
    {
     "data": {
      "image/png": "[encoded data removed]",
      "text/plain": [
       "<Figure size 1152x576 with 1 Axes>"
      ]
     },
     "metadata": {
      "needs_background": "light"
     },
     "output_type": "display_data"
    }
   ],
   "source": [
    "# Now plot the Contract Awarding Body column to see who is issing the most new work\n",
    "\n",
    "plt.figure(figsize = plot_size_rectangle)\n",
    "g = sns.countplot(x='Contract awarded by', data=df, order = df['Contract awarded by'].value_counts().index)\n",
    "p = plt.title('Count plot for Contract Awarding body')\n",
    "p = plt.xlabel('Public Awarding Body')\n",
    "p = plt.ylabel('Total Projects Awarded')\n",
    "p = g.set_xticklabels(g.get_xticklabels(), rotation=45, horizontalalignment='right')"
   ]
  },
  {
   "cell_type": "markdown",
   "id": "4376c3c0",
   "metadata": {},
   "source": [
    "We can see that six of the top ten bodies awarding construction contracts within this dataset are Health and Social Care services. We could perhaps uncover data on the number of properties these departments own to check the contract volume vs who owns the most property for further insights.\n",
    "\n",
    "Next we want to take a look at the companies who win awarded contracts."
   ]
  },
  {
   "cell_type": "code",
   "execution_count": 42,
   "id": "3a0f9655",
   "metadata": {},
   "outputs": [
    {
     "data": {
      "text/plain": [
       "array([' Gregory Architects Ltd', 'A and M Haughian Ltd',\n",
       "       'AC Automation U.K. Ltd',\n",
       "       'AECOM INFRASTRUCTURE  and  ENVIRONMENT UK LTD ', 'AECOM Ltd',\n",
       "       'ALASTAIR COEY ARCHITECTS LTD', 'ATKINS LTD',\n",
       "       'BI Electrical Services NI Ltd', 'Bell Contracts',\n",
       "       'CGC Laboratory Ltd', 'CHC Group', 'Cleary Contracting Ltd',\n",
       "       'Combined Facilities Management', 'D Hooke Contracts',\n",
       "       'D J Dickson', 'DEMAC Construction Ltd', 'Doran Consulting Ltd',\n",
       "       'Down Developments Ltd', 'Ernest Watt  and  Sons',\n",
       "       'Eugene Duffy Construction Ltd', 'FM Construction Services Ltd',\n",
       "       'FP McCann', 'Faithful  and  Gould', 'Graham Asset Management Ltd',\n",
       "       'Graham Facilities Management', 'H  and  J Martin Ltd',\n",
       "       'H and J Martin Ltd', 'HD9 Ltd', 'HUGH J. OBOYLE LTD',\n",
       "       'Hamilton Architects LLP', 'Harry Rolston Architect Ltd',\n",
       "       'Hawthorn Heights Ltd', 'Healthcare Facilities Ltd',\n",
       "       'Irwin M and E Ltd', 'J  and  M Begley Building Contractors Ltd',\n",
       "       'J J Rice Contractors', 'J.F.  and  H. Dowds Ltd',\n",
       "       'JD McGeown Ltd ', 'JOHN MCQUILLAN CONTRACTS LTD',\n",
       "       'JPM Contracts Ltd', 'Killowen Contracts Ltd',\n",
       "       'Knox  and  Clayton', 'LM Services NI Ltd', 'Leo Matheson Ltd',\n",
       "       'Louerne Construction Ltd',\n",
       "       'Lowry Building  and  Civil Engineering Ltd', 'M F E LTD',\n",
       "       'M P Coleman Ltd', 'MFE CONTRACTS LTD', 'MOSS CONSTRUCTION NI LTD',\n",
       "       'Maurice Flynn ', 'Maurice Flynn  and  Sons Ltd',\n",
       "       'McAdam Design Ltd', 'McCormack Demolition', 'McCusker Contracts',\n",
       "       'McGuigan Construction Ltd', 'Michael Nugent Ltd',\n",
       "       'Moore MacDonald  and  Partners', 'Moore Macdonald  and  Partners',\n",
       "       'Moss Construction NI Ltd', 'Nicor Construction',\n",
       "       'OHanlon Bros. Construction Ltd', 'OHare  and  McGovern',\n",
       "       'OHare  and  McGovern Limited', 'OHare and McGovern Ltd',\n",
       "       'Oakleaf Surveying', 'Overbury PLC', 'P  and  K MCKAIGUE LTD',\n",
       "       'Piperhill Construction Ltd', 'Povall Worthington',\n",
       "       'Quality Consultants NI Ltd', 'R J McKelvey Ltd',\n",
       "       'R. Loughlin Electrical Services Ltd', 'RPS Ireland Ltd',\n",
       "       'Scan Alarms and Security Systems UK Ltd', 'Smartgrid Ireland',\n",
       "       'Soltys Brewster Consulting Ltd', 'SpaceOasis Ltd',\n",
       "       'Thyssenkrupp Elevator Uk Ltd', 'Training Solutions NI Ltd',\n",
       "       'VIS Security Solutions Ltd', 'Various', 'WITHHELD', 'WIthheld',\n",
       "       'WJM Building Services Ltd', 'Western Building Systems Ltd',\n",
       "       'White Young Green', 'William Coates Ltd', 'Withheld'],\n",
       "      dtype=object)"
      ]
     },
     "execution_count": 42,
     "metadata": {},
     "output_type": "execute_result"
    }
   ],
   "source": [
    "# print out unique company names, in sorted order, to see poor quality data\n",
    "np.sort(df['Company name'].unique())"
   ]
  },
  {
   "cell_type": "markdown",
   "id": "183bba58",
   "metadata": {},
   "source": [
    "We have the name of 'Withheld', 'WITHHELD' and 'WIthheld', these should be tidied into one name. These names are redacted for the safety of people working for the Department of Justice in Northern Ireland.\n",
    "\n",
    "Companies with similar names cannot always be taken to be the same company, some businesses register subsidiaries for tax reasons or to compartmentalize risk, or even to segregate high risk projects.\n",
    "\n",
    "We also have the name 'Various', but we cannot re-attribute this or 'withheld' contracts to any other company without polluting the dataset. We have no way of knowing the contract values or whether the winning company is even currently represented, so 'withheld' and 'various' company names have to stay as is."
   ]
  },
  {
   "cell_type": "code",
   "execution_count": 43,
   "id": "f80b4d5b",
   "metadata": {},
   "outputs": [],
   "source": [
    "# function to rename all variants of 'withheld' name for tidiness\n",
    "def rename_withheld_variants(name):\n",
    "    if (name.lower() == 'withheld'):\n",
    "        return 'Withheld'\n",
    "    else:\n",
    "        # return the original name and strip whitespace from either side\n",
    "        return name.strip()\n",
    "\n",
    "# now apply the above function to all company names\n",
    "df['Company name'] = df['Company name'].apply(str).apply(rename_withheld_variants)"
   ]
  },
  {
   "cell_type": "code",
   "execution_count": 44,
   "id": "4d962f03",
   "metadata": {},
   "outputs": [
    {
     "data": {
      "image/png": "[encoded data removed]",
      "text/plain": [
       "<Figure size 864x576 with 1 Axes>"
      ]
     },
     "metadata": {
      "needs_background": "light"
     },
     "output_type": "display_data"
    }
   ],
   "source": [
    "# we will produce a histogram of the top 20 companies who have won projects\n",
    "plt.figure(figsize = plot_size_medium)\n",
    "g = df[\"Company name\"].value_counts().nlargest(20).plot(kind='barh')\n",
    "p = plt.title('Top 20 Tendering Companies')\n",
    "plt.gca().invert_yaxis() #invert the plot to show largest company first\n",
    "p = plt.xlabel('Total Contracts')"
   ]
  },
  {
   "cell_type": "markdown",
   "id": "9babe7d4",
   "metadata": {},
   "source": [
    "We cant clean much more on the company names for now.\n",
    "We will print a selection of unique names for project titles to see what could be done with the title column."
   ]
  },
  {
   "cell_type": "code",
   "execution_count": 45,
   "id": "a0435068",
   "metadata": {},
   "outputs": [
    {
     "data": {
      "text/plain": [
       "array(['SE1239829M Replacement of Air Handling Unit at Lagan Valley Hospital',\n",
       "       'SE1240005M Refurbishment of plant room at River House Lagan Valley Hospital',\n",
       "       'Maydown PSNI Station Conversion to Gas  Various Buildings Site Wide',\n",
       "       'PSNI Estate  Electronic Access Control Systems',\n",
       "       'Peace Walls Maintenance Contract',\n",
       "       'Southern Trust  Extension to SHSCT MTC',\n",
       "       'Northern Trust  Provision of Minor Electrical Works  Northern Sector',\n",
       "       'Refurb of 1st Floor South BVH',\n",
       "       'Belfast Trust  Refurb of 1st Floor South BVH',\n",
       "       'Assessments of Control Structures Reissue',\n",
       "       'Ebrington development Framework Transport Assessment Update reissue',\n",
       "       'SE1350440E Replacement of staff attack systems in mental health facilities Trustwide',\n",
       "       'Drumahoe Eglinton and Londonderry Feasibility Studies ReIssue',\n",
       "       'DE 1378748  Appointment of Integrated Consultant Team ICT for St Killians College Carnlough',\n",
       "       'PSNI  Seapark PSNI Station  Replacement of Modular Buildings with a Traditional New Build',\n",
       "       'DOF 1131646 Demolition of Hydebank Offices',\n",
       "       'Northern Trust  Replacement of Carpet with Vinyl at Booking Office at Fern House',\n",
       "       'SE1261079B Construction of Records Store at Home 7 UHD',\n",
       "       'South Eastern Trust  Construction of Records Store at Home 7 UHD',\n",
       "       'SE1290463B Refurbishment of Finance Building Ards Community Hospital Phase 3',\n",
       "       'DfC1235658  Historic Environment Division HED AdHoc Surveys',\n",
       "       'Framework for Building Maintenance and Minor Building Works Lot 1 Royal Group of Hospitals',\n",
       "       'Framework for Building Maintenance and Minor Building Works Lot 2 Belfast City Hospital',\n",
       "       'Framework for Building Maintenance and Minor Building Works Lot 3Musgrave Park Hospital Knockbracken  and  South and East Belfast Community',\n",
       "       'Framework for Building Maintenance and Minor Building Works Lot 4 Musgrave Park Hospital Knockbracken  and  South and East Belfast Community',\n",
       "       'SO1531070B Accommodation Block Bathroom Refurbishment Works Craigavon Area Hospital',\n",
       "       'Southern Trust  Accommodation Block Bathroom Refurbishment Works Craigavon Area Hospital',\n",
       "       'Belfast Trust  Centralisation of Tissue Pathology Services at Institute of Pathology Royal Group of Hospitals',\n",
       "       'DfI  1550619  LOUGH NEAGH FLOOD FORECASTING SYSTEM',\n",
       "       'WE1278556B Refurbishment of Bathroom Areas Maybrook ATC Londonderry',\n",
       "       'DfI  1533173  Co. Antrim Flood Alleviation Schemes Hollywell Burn and Flush Bridge Stream 2018',\n",
       "       'SE1567079B Roof Work at Lakewood RSCC Bangor',\n",
       "       'Ebrington New Entrance and Boundary Treatment',\n",
       "       'Belfast Trust  Framework for Asbestos Surveying and Monitoring  Lot 1',\n",
       "       'Belfast Trust  Framework for Asbestos Surveying and Monitoring  Lot2',\n",
       "       'DfC  DfCHistoric Environment Division Specialist Services Management Contract',\n",
       "       'QS Services Royal Hospitals Critical Care Building',\n",
       "       'Fire Safety Works Royal Hospitals Critical Care Building',\n",
       "       'Standby Generator Repairs Royal Hospitals Critical Care Building',\n",
       "       'Replacement of Ventilation System Louvres Royal Hospitals Critical Care Building',\n",
       "       'SE1415825E Installation of Submains and Distribution Boards at Ulster Hospital',\n",
       "       'Lissue Stream Flood Alleviation Scheme',\n",
       "       'SE1261252B CT scanner enabling work at LVH',\n",
       "       'Strangford and Portaferry Harbours CCTV Upgrade',\n",
       "       'Building and Welding Maintenance Framework',\n",
       "       'SO1610522B CRAIGAVON AREA HOSPITAL  RELOCATABLE SCANNER ENABLING WORKS',\n",
       "       'SE1261204B Construction of Extension at Saintfield Health Centre',\n",
       "       'SE1416030E Installation of New Generator at Ulster Hospital',\n",
       "       'SO1581296B CRAIGAVON AREA HOSPITAL AMBULATORY ASSESSMENT UNIT',\n",
       "       '1350440 SC2  SE1350440E Replacement of staff attack systems in mental health facilities Trustwide',\n",
       "       '1261252 SC2  SE1261252B CT scanner enabling work at LVH',\n",
       "       'BE1645736B Entrance Doors Reconfiguration Cancer Centre Belfast City Hospital',\n",
       "       '1284813 SC2  WE1284813B Essential Fire Upgrade Works Waterside Hospital Londonderry',\n",
       "       '1200561 SC2  WE1200561B Spruce Villa Refurbishment T and F Hospital Omagh',\n",
       "       'New Buildings for Southern Regional College  Banbridge',\n",
       "       'Calf Housing at Dairy Centre Greenmount',\n",
       "       'Trust Wide Six Facet inc DDA Survey',\n",
       "       '1567079 SC2  SE1567079B Roof Work at Lakewood RSCC Bangor',\n",
       "       '1415825 SC2  SE1415825E Installation of Submains and Distribution Boards at Ulster Hospital',\n",
       "       '1416030 SC2  SE1416030E Installation of New Generator at Ulster Hospital',\n",
       "       'St. Marys University College Minor Works Programme 201819 ICT Appointment',\n",
       "       'WE1574332B Refurbishment of Ward 4 Tower Block Altnaglevin Hospital reissued',\n",
       "       'NWRC Phase 6  Refurbishment Of Springtown Building ReIssue',\n",
       "       'TSCBuildingplanned/preventative maintenance and small minor works Lot 1',\n",
       "       'TSCBuildingplanned/preventative maintenance and small minor works Lot 2',\n",
       "       'TSCBuildingplanned/preventative maintenance and small minor works Lot 3',\n",
       "       '1574332 SC2  WE1574332B Refurbishment of Ward 4 Tower Block Altnaglevin Hospital reissued',\n",
       "       'New Stormont Estate Play Park  IST Procurement',\n",
       "       'Extension of SEHSCT Lot 1 MTC', 'Extension of SEHSCT Lot 2 MTC',\n",
       "       'WHSCT FRAMEWORK FOR BUILDING MAINTENANCE AND MINOR BUILDING WORKS  CONTRACT EXTENSION',\n",
       "       'Upgrade of CCTV at Lagan Weir Reissue',\n",
       "       'NO1462119MTC Term Service Short Contract for Minor Works NHSCT Northern Geographical Area.',\n",
       "       'NO1466297MTC Term Service Short Contract for Minor Works at NHSCT Southern Geographical Area.',\n",
       "       'NO1458149MTC Term Service Short Contract for Minor Works at Antrim Area Hospital Site',\n",
       "       'NO1609392B Antrim Hospital  24 Bed Modular Ward  NHS Framework Suppliers',\n",
       "       'SE1519031B Refurbishment of office accommodation Ward 24 Downshire Hospital',\n",
       "       'WE1691782B Security Measures for Tyrone County Hospital and Riverside House',\n",
       "       'Ravenhill Road Public Toilets PREI Scheme Reissue',\n",
       "       'NO1614155B Phase 4 Car Parking Antrim Hospital',\n",
       "       '9 Lanyon Place  Phase 2 Office Refurbishment DAC',\n",
       "       'Lisnasharragh PSNI Station  New Front Entrance  and  Associated Works ',\n",
       "       'HED Carrickfergus Castle Great Tower Roof Replacement',\n",
       "       'Ballysillan Park/Crumlin Road Junction PREI Scheme',\n",
       "       'Call  Off for Antrim Road Shopping Node PREI Scheme Design reIssue',\n",
       "       'BE1709923  Refurbishment And Upgrade Of Phase 1 Bed Lift And OPD Passenger Lift Royal Victoria Hospital Royal Group of Hospitals Belfast Health And Social Care Trust',\n",
       "       'Lakeglen Avenue PREI Scheme  REISSUE',\n",
       "       'Lislea Drive PSNI Station  New Guard House  and  Entrance',\n",
       "       'PreAcquisition Professional Advice',\n",
       "       'BE1709553  Refurbishment And Upgrade Of Existing Theatre Bed Lift Withers Musgrave Park Hospital Belfast Health And Social Care Trust',\n",
       "       'BE1677932B Refurbishment of Day Surgery and PreAssessment Unit Ground Floor Tower Block Belfast City Hospital.',\n",
       "       'CallOff For Trench Park/Finaghy Road Junction PREI Scheme ',\n",
       "       'Research Proposal for Electrical Energy Storage',\n",
       "       'BE1715974B Building Works Associated With Replacement MRI Scanner Musgrave Park Hospital REISSUE',\n",
       "       'BE1691675B Building Works Associated With Replacement MRI Scanner Musgrave Park Hospital',\n",
       "       'BE1659593B CPA Childrens Home 57A College Park Avenue Refurbishment Works Belfast',\n",
       "       'Donegall Road Shopping Nodes PREI Scheme Design REISSUE',\n",
       "       'Gas to West QS/CIVIL Construction Professional  Construction Grant Verification REISSUE',\n",
       "       'BE1731172B Works Associated with Washer Replacement Scheme at CDU Royal Group of Hospitals',\n",
       "       'BE1668643B Edgcumbe TRC Phased Toilet Refurbishment Works BHSCT',\n",
       "       'BE1715360E Replacement Fire Alarm System Outpatients Building Royal Victoria Hospital',\n",
       "       'OHPCC Shell Fitout Phase 1',\n",
       "       'Firing Ranges DeLeading and Deep Cleaning Services  PSNI Estate',\n",
       "       'Framework for Building Maintenance and Minor Building Works Lot 3 Musgrave Park Hospital Knockbracken  and  South and East Belfast Community',\n",
       "       'BE1730953B Formation of Lift Enclosure at Redevelopment Building Royal Group of Hospitals',\n",
       "       'NIFRS  Key safe Cabinets for Appliance Rooms',\n",
       "       'Fire Protection Works to NI Cancer Centre',\n",
       "       'Imaging Equipment Enabling Works  HMP Magheraberry',\n",
       "       'BE1799903M Ventilation Upgrade and Theatre Refurbisment Critical Care Building Royal Victoria Hospital',\n",
       "       'RGH Bostock House Demolition Works',\n",
       "       'Lanark way Extended Junction PREI Scheme',\n",
       "       'BE1800286B Formation of Short Stay Unit at Royal Belfast Hospital For Sick Children',\n",
       "       'BE1706197  Supply Installation And Commissioning Of A Mobile Diesel Generator And Associated Equipment For Belfast Health And Social Care Trust',\n",
       "       'Relocation of Macmillan Information Pod at SWAH',\n",
       "       'NIFRS  Refurbishment of Buildings within the grounds of NIFRS Headquarters Lisburn',\n",
       "       'NIFRS1769426E Replacement/Upgrade of Fire Alarms at Various Stations',\n",
       "       'NIFRS  Renewal Gates and Safety Upgrades to Existing Entrance Gates.',\n",
       "       'Framework for Mechanical Maintenance  and  Minor Works  Lot 1',\n",
       "       'Framework for Mechanical Maintenance  and  Minor Works  Lot 2',\n",
       "       'Framework for Mechanical Maintenance  and  Minor Works  Lot 3',\n",
       "       'Framework for Mechanical Maintenance  and  Minor Works  Lot 4',\n",
       "       'Framework for Electrical Maintenance  and  Minor Works  Lot 1',\n",
       "       'Framework for Electrical Maintenance  and  Minor Works  Lot 2',\n",
       "       'Framework for Electrical Maintenance  and  Minor Works  Lot 3',\n",
       "       'Framework for Electrical Maintenance  and  Minor Works  Lot 4',\n",
       "       'Urgent UPS Installation at Nucleus Cath Lab',\n",
       "       'Electrical Infrastructure Upgrade to ICU/HDU at Altnagelvin Hospital',\n",
       "       'Pan Government Integrated Consultant Team Framework Agreement 2018  Lot 4',\n",
       "       'Pan Government Integrated Consultant Team Framework Agreement 2018  Lot 5',\n",
       "       'Pan Government Integrated Consultant Team Framework Agreement 2018  Lot 6',\n",
       "       'Pan Government Integrated Consultant Team Framework Agreement 2018  Lot 7',\n",
       "       'Provision of Aids  and  Adaptations Minor Works for Clients within the community throughout the NHSCT Area',\n",
       "       'Upgrade of CCTV at Royal Courts of Justice Belfast',\n",
       "       'Crumlin Road Gaol CCTV System Refresh',\n",
       "       'Electrical Training  IET Regulations BS 76712018 18th',\n",
       "       'Invest NI London Office Fitout Framework Calloff'], dtype=object)"
      ]
     },
     "execution_count": 45,
     "metadata": {},
     "output_type": "execute_result"
    }
   ],
   "source": [
    "df['Title'].unique()"
   ]
  },
  {
   "cell_type": "markdown",
   "id": "622ed686",
   "metadata": {},
   "source": [
    "We can see that some of the names have the awarding body (this is already in another column).\n",
    "Some have a contract number specific to that department and some have locations.\n",
    "Some titles have the nature of the work being carried out (refurbishment, framework, refresh, upgrade, demolition), and many do not.\n",
    "\n",
    "There is little consistency in the title names. We can assume by looking at these that this is aggregated data from multiple sources and it is hard to see how these could be grouped. We will keep this column though as its useful for manual processing."
   ]
  },
  {
   "cell_type": "code",
   "execution_count": 46,
   "id": "9331a8fe",
   "metadata": {},
   "outputs": [
    {
     "data": {
      "text/html": [
       "<div>\n",
       "<style scoped>\n",
       "    .dataframe tbody tr th:only-of-type {\n",
       "        vertical-align: middle;\n",
       "    }\n",
       "\n",
       "    .dataframe tbody tr th {\n",
       "        vertical-align: top;\n",
       "    }\n",
       "\n",
       "    .dataframe thead th {\n",
       "        text-align: right;\n",
       "    }\n",
       "</style>\n",
       "<table border=\"1\" class=\"dataframe\">\n",
       "  <thead>\n",
       "    <tr style=\"text-align: right;\">\n",
       "      <th></th>\n",
       "      <th>Title</th>\n",
       "      <th>Awarded value</th>\n",
       "      <th>Date of Award</th>\n",
       "      <th>Company name</th>\n",
       "      <th>Street</th>\n",
       "      <th>City</th>\n",
       "      <th>Postal code</th>\n",
       "      <th>Contract awarded by</th>\n",
       "    </tr>\n",
       "  </thead>\n",
       "  <tbody>\n",
       "    <tr>\n",
       "      <th>135</th>\n",
       "      <td>Provision of Aids  and  Adaptations Minor Work...</td>\n",
       "      <td>80000.0</td>\n",
       "      <td>2019-03-21</td>\n",
       "      <td>McGuigan Construction Ltd</td>\n",
       "      <td>38 Garvagh Road</td>\n",
       "      <td>Dungannon</td>\n",
       "      <td>BT70 3LS</td>\n",
       "      <td>Northern Health  and  Social Care Trust</td>\n",
       "    </tr>\n",
       "    <tr>\n",
       "      <th>136</th>\n",
       "      <td>Upgrade of CCTV at Royal Courts of Justice Bel...</td>\n",
       "      <td>250000.0</td>\n",
       "      <td>2019-03-22</td>\n",
       "      <td>Withheld</td>\n",
       "      <td>WITHHELD</td>\n",
       "      <td>Withheld</td>\n",
       "      <td>WITHHELD</td>\n",
       "      <td>Department of Justice</td>\n",
       "    </tr>\n",
       "    <tr>\n",
       "      <th>137</th>\n",
       "      <td>Crumlin Road Gaol CCTV System Refresh</td>\n",
       "      <td>37088.0</td>\n",
       "      <td>2019-03-22</td>\n",
       "      <td>VIS Security Solutions Ltd</td>\n",
       "      <td>1618 Lower Windsor Avenue</td>\n",
       "      <td>Belfast</td>\n",
       "      <td>BT9 7DW</td>\n",
       "      <td>Department for Infrastructure</td>\n",
       "    </tr>\n",
       "    <tr>\n",
       "      <th>138</th>\n",
       "      <td>Electrical Training  IET Regulations BS 767120...</td>\n",
       "      <td>11098.0</td>\n",
       "      <td>2019-03-22</td>\n",
       "      <td>Training Solutions NI Ltd</td>\n",
       "      <td>New Horizons4A Steeple Road</td>\n",
       "      <td>Antrim</td>\n",
       "      <td>BT41 1AF</td>\n",
       "      <td>Department of Finance</td>\n",
       "    </tr>\n",
       "    <tr>\n",
       "      <th>139</th>\n",
       "      <td>Invest NI London Office Fitout Framework Calloff</td>\n",
       "      <td>477556.8</td>\n",
       "      <td>2019-03-25</td>\n",
       "      <td>Overbury PLC</td>\n",
       "      <td>77 Newman Street</td>\n",
       "      <td>London</td>\n",
       "      <td>W1T 3EW</td>\n",
       "      <td>InvestNI</td>\n",
       "    </tr>\n",
       "  </tbody>\n",
       "</table>\n",
       "</div>"
      ],
      "text/plain": [
       "                                                 Title  Awarded value  \\\n",
       "135  Provision of Aids  and  Adaptations Minor Work...        80000.0   \n",
       "136  Upgrade of CCTV at Royal Courts of Justice Bel...       250000.0   \n",
       "137              Crumlin Road Gaol CCTV System Refresh        37088.0   \n",
       "138  Electrical Training  IET Regulations BS 767120...        11098.0   \n",
       "139   Invest NI London Office Fitout Framework Calloff       477556.8   \n",
       "\n",
       "    Date of Award                Company name                       Street  \\\n",
       "135    2019-03-21   McGuigan Construction Ltd              38 Garvagh Road   \n",
       "136    2019-03-22                    Withheld                     WITHHELD   \n",
       "137    2019-03-22  VIS Security Solutions Ltd    1618 Lower Windsor Avenue   \n",
       "138    2019-03-22   Training Solutions NI Ltd  New Horizons4A Steeple Road   \n",
       "139    2019-03-25                Overbury PLC             77 Newman Street   \n",
       "\n",
       "          City Postal code                      Contract awarded by  \n",
       "135  Dungannon    BT70 3LS  Northern Health  and  Social Care Trust  \n",
       "136   Withheld    WITHHELD                    Department of Justice  \n",
       "137    Belfast     BT9 7DW            Department for Infrastructure  \n",
       "138     Antrim    BT41 1AF                    Department of Finance  \n",
       "139     London     W1T 3EW                                 InvestNI  "
      ]
     },
     "execution_count": 46,
     "metadata": {},
     "output_type": "execute_result"
    }
   ],
   "source": [
    "# print the bottom 5 rows of data to see how the data looks now for the whole dataframe\n",
    "df.tail()"
   ]
  },
  {
   "cell_type": "markdown",
   "id": "f8a629d3",
   "metadata": {},
   "source": [
    "For consistency, we will tidy other columns that have 'withheld' as data, as we have already written a function to do this."
   ]
  },
  {
   "cell_type": "code",
   "execution_count": 47,
   "id": "a60947e8",
   "metadata": {},
   "outputs": [
    {
     "data": {
      "text/html": [
       "<div>\n",
       "<style scoped>\n",
       "    .dataframe tbody tr th:only-of-type {\n",
       "        vertical-align: middle;\n",
       "    }\n",
       "\n",
       "    .dataframe tbody tr th {\n",
       "        vertical-align: top;\n",
       "    }\n",
       "\n",
       "    .dataframe thead th {\n",
       "        text-align: right;\n",
       "    }\n",
       "</style>\n",
       "<table border=\"1\" class=\"dataframe\">\n",
       "  <thead>\n",
       "    <tr style=\"text-align: right;\">\n",
       "      <th></th>\n",
       "      <th>Title</th>\n",
       "      <th>Awarded value</th>\n",
       "      <th>Date of Award</th>\n",
       "      <th>Company name</th>\n",
       "      <th>Street</th>\n",
       "      <th>City</th>\n",
       "      <th>Postal code</th>\n",
       "      <th>Contract awarded by</th>\n",
       "    </tr>\n",
       "  </thead>\n",
       "  <tbody>\n",
       "    <tr>\n",
       "      <th>135</th>\n",
       "      <td>Provision of Aids  and  Adaptations Minor Work...</td>\n",
       "      <td>80000.0</td>\n",
       "      <td>2019-03-21</td>\n",
       "      <td>McGuigan Construction Ltd</td>\n",
       "      <td>38 Garvagh Road</td>\n",
       "      <td>Dungannon</td>\n",
       "      <td>BT70 3LS</td>\n",
       "      <td>Northern Health  and  Social Care Trust</td>\n",
       "    </tr>\n",
       "    <tr>\n",
       "      <th>136</th>\n",
       "      <td>Upgrade of CCTV at Royal Courts of Justice Bel...</td>\n",
       "      <td>250000.0</td>\n",
       "      <td>2019-03-22</td>\n",
       "      <td>Withheld</td>\n",
       "      <td>Withheld</td>\n",
       "      <td>Withheld</td>\n",
       "      <td>Withheld</td>\n",
       "      <td>Department of Justice</td>\n",
       "    </tr>\n",
       "    <tr>\n",
       "      <th>137</th>\n",
       "      <td>Crumlin Road Gaol CCTV System Refresh</td>\n",
       "      <td>37088.0</td>\n",
       "      <td>2019-03-22</td>\n",
       "      <td>VIS Security Solutions Ltd</td>\n",
       "      <td>1618 Lower Windsor Avenue</td>\n",
       "      <td>Belfast</td>\n",
       "      <td>BT9 7DW</td>\n",
       "      <td>Department for Infrastructure</td>\n",
       "    </tr>\n",
       "    <tr>\n",
       "      <th>138</th>\n",
       "      <td>Electrical Training  IET Regulations BS 767120...</td>\n",
       "      <td>11098.0</td>\n",
       "      <td>2019-03-22</td>\n",
       "      <td>Training Solutions NI Ltd</td>\n",
       "      <td>New Horizons4A Steeple Road</td>\n",
       "      <td>Antrim</td>\n",
       "      <td>BT41 1AF</td>\n",
       "      <td>Department of Finance</td>\n",
       "    </tr>\n",
       "    <tr>\n",
       "      <th>139</th>\n",
       "      <td>Invest NI London Office Fitout Framework Calloff</td>\n",
       "      <td>477556.8</td>\n",
       "      <td>2019-03-25</td>\n",
       "      <td>Overbury PLC</td>\n",
       "      <td>77 Newman Street</td>\n",
       "      <td>London</td>\n",
       "      <td>W1T 3EW</td>\n",
       "      <td>InvestNI</td>\n",
       "    </tr>\n",
       "  </tbody>\n",
       "</table>\n",
       "</div>"
      ],
      "text/plain": [
       "                                                 Title  Awarded value  \\\n",
       "135  Provision of Aids  and  Adaptations Minor Work...        80000.0   \n",
       "136  Upgrade of CCTV at Royal Courts of Justice Bel...       250000.0   \n",
       "137              Crumlin Road Gaol CCTV System Refresh        37088.0   \n",
       "138  Electrical Training  IET Regulations BS 767120...        11098.0   \n",
       "139   Invest NI London Office Fitout Framework Calloff       477556.8   \n",
       "\n",
       "    Date of Award                Company name                       Street  \\\n",
       "135    2019-03-21   McGuigan Construction Ltd              38 Garvagh Road   \n",
       "136    2019-03-22                    Withheld                     Withheld   \n",
       "137    2019-03-22  VIS Security Solutions Ltd    1618 Lower Windsor Avenue   \n",
       "138    2019-03-22   Training Solutions NI Ltd  New Horizons4A Steeple Road   \n",
       "139    2019-03-25                Overbury PLC             77 Newman Street   \n",
       "\n",
       "          City Postal code                      Contract awarded by  \n",
       "135  Dungannon    BT70 3LS  Northern Health  and  Social Care Trust  \n",
       "136   Withheld    Withheld                    Department of Justice  \n",
       "137    Belfast     BT9 7DW            Department for Infrastructure  \n",
       "138     Antrim    BT41 1AF                    Department of Finance  \n",
       "139     London     W1T 3EW                                 InvestNI  "
      ]
     },
     "execution_count": 47,
     "metadata": {},
     "output_type": "execute_result"
    }
   ],
   "source": [
    "df['Street'] = df['Street'].apply(str).apply(rename_withheld_variants)\n",
    "df['Postal code'] = df['Postal code'].apply(str).apply(rename_withheld_variants)\n",
    "df['Company name'] = df['Company name'].apply(str).apply(rename_withheld_variants)\n",
    "df.tail()"
   ]
  },
  {
   "cell_type": "markdown",
   "id": "a57ead00",
   "metadata": {},
   "source": [
    "# Export as a new CSV file"
   ]
  },
  {
   "cell_type": "code",
   "execution_count": 48,
   "id": "3751ce2b",
   "metadata": {},
   "outputs": [],
   "source": [
    "# Export the cleaned dataset as a CSV to the same directory as this notebook\n",
    "# refer the documentation side panel for further \"to_\" functions\n",
    "# https://pandas.pydata.org/docs/reference/api/pandas.DataFrame.to_csv.html\n",
    "df.to_csv(\"cleaned_construction_contracts_2018_19.csv\")"
   ]
  },
  {
   "cell_type": "markdown",
   "id": "f022d032",
   "metadata": {},
   "source": [
    "# Pivot table"
   ]
  },
  {
   "cell_type": "markdown",
   "id": "d0e3ae0d",
   "metadata": {},
   "source": [
    "A pivot table has been demonstrated in the Chapter 5 notebook."
   ]
  },
  {
   "cell_type": "markdown",
   "id": "02434d65",
   "metadata": {},
   "source": [
    "# Chapter 5 probability plots"
   ]
  },
  {
   "cell_type": "markdown",
   "id": "5382ca25",
   "metadata": {},
   "source": [
    "While completing the work for chapter 5, probability plots were discovered, so these plots were added as further means to detect outliers for this dataset."
   ]
  },
  {
   "cell_type": "code",
   "execution_count": 49,
   "id": "d5b2a16b",
   "metadata": {},
   "outputs": [
    {
     "data": {
      "image/png": "[encoded data removed]",
      "text/plain": [
       "<Figure size 1152x576 with 1 Axes>"
      ]
     },
     "metadata": {
      "needs_background": "light"
     },
     "output_type": "display_data"
    }
   ],
   "source": [
    "# perform a probability plot of the non-normalised 'awarded value' data to detect outliers\n",
    "# datapoints that are far away from the \"normal\" distribution may indicate outliers.\n",
    "fig = plt.figure(figsize = plot_size_rectangle)\n",
    "res = stats.probplot(df['Awarded value'], plot=plt)"
   ]
  },
  {
   "cell_type": "markdown",
   "id": "abf35055",
   "metadata": {},
   "source": [
    "The plot above shows us with its shape that this is a skewed distribution, which we already know. The red line is trying to show a normal distribution, which is irrelevant for this dataset as we know its exponential. \n",
    "\n",
    "We will complete the same plot on the normalized data for comparison."
   ]
  },
  {
   "cell_type": "code",
   "execution_count": 50,
   "id": "a94f902b",
   "metadata": {},
   "outputs": [
    {
     "data": {
      "image/png": "[encoded data removed]",
      "text/plain": [
       "<Figure size 1152x576 with 1 Axes>"
      ]
     },
     "metadata": {
      "needs_background": "light"
     },
     "output_type": "display_data"
    }
   ],
   "source": [
    "# perform a probability plot of the normalized 'awarded value' data\n",
    "fig = plt.figure(figsize = plot_size_rectangle)\n",
    "res = stats.probplot(new_normalised_df, plot=plt)"
   ]
  },
  {
   "cell_type": "markdown",
   "id": "b7a57165",
   "metadata": {},
   "source": [
    "This data closely follows a normal distribution, which isnt much of a surprise since Box-Cox power transformation was completed on it for this purpose. This plot may suggest that some of values at bottom left and some of the higher values (top right) are outliers."
   ]
  },
  {
   "cell_type": "markdown",
   "id": "20ae3e92",
   "metadata": {},
   "source": [
    "# Further Visualisations for Chapter 5 analysis"
   ]
  },
  {
   "cell_type": "markdown",
   "id": "aabce115",
   "metadata": {},
   "source": [
    "Further effort was made to plot the date of contracts being awarded with the total amount of contracts being awarded. \n",
    "\n",
    "This stopped when the date representation bug in the data could not be resolved.\n",
    "Code cells are retained to help see what work has been done so far."
   ]
  },
  {
   "cell_type": "code",
   "execution_count": 51,
   "id": "4d3de9b4",
   "metadata": {},
   "outputs": [
    {
     "data": {
      "text/plain": [
       "array(['2018-01-06T00:00:00.000000000', '2018-01-11T00:00:00.000000000',\n",
       "       '2018-02-10T00:00:00.000000000', '2018-03-09T00:00:00.000000000',\n",
       "       '2018-03-10T00:00:00.000000000', '2018-03-12T00:00:00.000000000',\n",
       "       '2018-04-05T00:00:00.000000000', '2018-04-09T00:00:00.000000000',\n",
       "       '2018-04-10T00:00:00.000000000', '2018-04-17T00:00:00.000000000',\n",
       "       '2018-04-24T00:00:00.000000000', '2018-05-04T00:00:00.000000000',\n",
       "       '2018-05-07T00:00:00.000000000', '2018-05-10T00:00:00.000000000',\n",
       "       '2018-05-15T00:00:00.000000000', '2018-05-29T00:00:00.000000000',\n",
       "       '2018-06-06T00:00:00.000000000', '2018-06-07T00:00:00.000000000',\n",
       "       '2018-06-08T00:00:00.000000000', '2018-06-12T00:00:00.000000000',\n",
       "       '2018-06-13T00:00:00.000000000', '2018-06-20T00:00:00.000000000',\n",
       "       '2018-06-22T00:00:00.000000000', '2018-06-29T00:00:00.000000000',\n",
       "       '2018-07-12T00:00:00.000000000', '2018-07-18T00:00:00.000000000',\n",
       "       '2018-07-23T00:00:00.000000000', '2018-07-30T00:00:00.000000000',\n",
       "       '2018-08-14T00:00:00.000000000', '2018-08-21T00:00:00.000000000',\n",
       "       '2018-08-23T00:00:00.000000000', '2018-08-24T00:00:00.000000000',\n",
       "       '2018-09-11T00:00:00.000000000', '2018-09-21T00:00:00.000000000',\n",
       "       '2018-09-27T00:00:00.000000000', '2018-09-28T00:00:00.000000000',\n",
       "       '2018-10-07T00:00:00.000000000', '2018-10-10T00:00:00.000000000',\n",
       "       '2018-10-16T00:00:00.000000000', '2018-10-18T00:00:00.000000000',\n",
       "       '2018-10-24T00:00:00.000000000', '2018-10-25T00:00:00.000000000',\n",
       "       '2018-11-06T00:00:00.000000000', '2018-11-09T00:00:00.000000000',\n",
       "       '2018-11-12T00:00:00.000000000', '2018-11-15T00:00:00.000000000',\n",
       "       '2018-11-16T00:00:00.000000000', '2018-11-23T00:00:00.000000000',\n",
       "       '2018-11-26T00:00:00.000000000', '2018-11-29T00:00:00.000000000',\n",
       "       '2018-11-30T00:00:00.000000000', '2018-12-10T00:00:00.000000000',\n",
       "       '2018-12-11T00:00:00.000000000', '2018-12-13T00:00:00.000000000',\n",
       "       '2018-12-17T00:00:00.000000000', '2018-12-18T00:00:00.000000000',\n",
       "       '2018-12-19T00:00:00.000000000', '2018-12-20T00:00:00.000000000',\n",
       "       '2018-12-21T00:00:00.000000000', '2019-01-02T00:00:00.000000000',\n",
       "       '2019-01-15T00:00:00.000000000', '2019-01-22T00:00:00.000000000',\n",
       "       '2019-01-24T00:00:00.000000000', '2019-01-28T00:00:00.000000000',\n",
       "       '2019-01-31T00:00:00.000000000', '2019-02-19T00:00:00.000000000',\n",
       "       '2019-02-20T00:00:00.000000000', '2019-02-22T00:00:00.000000000',\n",
       "       '2019-02-27T00:00:00.000000000', '2019-03-13T00:00:00.000000000',\n",
       "       '2019-03-14T00:00:00.000000000', '2019-03-21T00:00:00.000000000',\n",
       "       '2019-03-22T00:00:00.000000000', '2019-03-25T00:00:00.000000000',\n",
       "       '2019-04-01T00:00:00.000000000', '2019-05-02T00:00:00.000000000',\n",
       "       '2019-07-02T00:00:00.000000000', '2019-07-03T00:00:00.000000000',\n",
       "       '2019-08-02T00:00:00.000000000', '2019-12-02T00:00:00.000000000'],\n",
       "      dtype='datetime64[ns]')"
      ]
     },
     "execution_count": 51,
     "metadata": {},
     "output_type": "execute_result"
    }
   ],
   "source": [
    "# debugging df.plot() - sort the dates to see what dates exist in the dataframe\n",
    "np.sort(df['Date of Award'].unique())"
   ]
  },
  {
   "cell_type": "code",
   "execution_count": 52,
   "id": "8919dccd",
   "metadata": {},
   "outputs": [
    {
     "data": {
      "text/html": [
       "<div>\n",
       "<style scoped>\n",
       "    .dataframe tbody tr th:only-of-type {\n",
       "        vertical-align: middle;\n",
       "    }\n",
       "\n",
       "    .dataframe tbody tr th {\n",
       "        vertical-align: top;\n",
       "    }\n",
       "\n",
       "    .dataframe thead th {\n",
       "        text-align: right;\n",
       "    }\n",
       "</style>\n",
       "<table border=\"1\" class=\"dataframe\">\n",
       "  <thead>\n",
       "    <tr style=\"text-align: right;\">\n",
       "      <th></th>\n",
       "      <th>Awarded value</th>\n",
       "    </tr>\n",
       "    <tr>\n",
       "      <th>Date of Award</th>\n",
       "      <th></th>\n",
       "    </tr>\n",
       "  </thead>\n",
       "  <tbody>\n",
       "    <tr>\n",
       "      <th>2018-01</th>\n",
       "      <td>5391581.00</td>\n",
       "    </tr>\n",
       "    <tr>\n",
       "      <th>2018-02</th>\n",
       "      <td>400164.00</td>\n",
       "    </tr>\n",
       "    <tr>\n",
       "      <th>2018-03</th>\n",
       "      <td>2666398.00</td>\n",
       "    </tr>\n",
       "    <tr>\n",
       "      <th>2018-04</th>\n",
       "      <td>17027178.15</td>\n",
       "    </tr>\n",
       "    <tr>\n",
       "      <th>2018-05</th>\n",
       "      <td>1525522.00</td>\n",
       "    </tr>\n",
       "    <tr>\n",
       "      <th>2018-06</th>\n",
       "      <td>27527401.23</td>\n",
       "    </tr>\n",
       "    <tr>\n",
       "      <th>2018-07</th>\n",
       "      <td>421160.85</td>\n",
       "    </tr>\n",
       "    <tr>\n",
       "      <th>2018-08</th>\n",
       "      <td>3166021.80</td>\n",
       "    </tr>\n",
       "    <tr>\n",
       "      <th>2018-09</th>\n",
       "      <td>3923600.00</td>\n",
       "    </tr>\n",
       "    <tr>\n",
       "      <th>2018-10</th>\n",
       "      <td>21716566.55</td>\n",
       "    </tr>\n",
       "    <tr>\n",
       "      <th>2018-11</th>\n",
       "      <td>5218000.07</td>\n",
       "    </tr>\n",
       "    <tr>\n",
       "      <th>2018-12</th>\n",
       "      <td>3003592.32</td>\n",
       "    </tr>\n",
       "    <tr>\n",
       "      <th>2019-01</th>\n",
       "      <td>11408879.00</td>\n",
       "    </tr>\n",
       "    <tr>\n",
       "      <th>2019-02</th>\n",
       "      <td>323960.00</td>\n",
       "    </tr>\n",
       "    <tr>\n",
       "      <th>2019-03</th>\n",
       "      <td>955742.80</td>\n",
       "    </tr>\n",
       "    <tr>\n",
       "      <th>2019-04</th>\n",
       "      <td>662418.00</td>\n",
       "    </tr>\n",
       "    <tr>\n",
       "      <th>2019-05</th>\n",
       "      <td>1757913.85</td>\n",
       "    </tr>\n",
       "    <tr>\n",
       "      <th>2019-07</th>\n",
       "      <td>675233.00</td>\n",
       "    </tr>\n",
       "    <tr>\n",
       "      <th>2019-08</th>\n",
       "      <td>243750.00</td>\n",
       "    </tr>\n",
       "    <tr>\n",
       "      <th>2019-12</th>\n",
       "      <td>8000.00</td>\n",
       "    </tr>\n",
       "  </tbody>\n",
       "</table>\n",
       "</div>"
      ],
      "text/plain": [
       "               Awarded value\n",
       "Date of Award               \n",
       "2018-01           5391581.00\n",
       "2018-02            400164.00\n",
       "2018-03           2666398.00\n",
       "2018-04          17027178.15\n",
       "2018-05           1525522.00\n",
       "2018-06          27527401.23\n",
       "2018-07            421160.85\n",
       "2018-08           3166021.80\n",
       "2018-09           3923600.00\n",
       "2018-10          21716566.55\n",
       "2018-11           5218000.07\n",
       "2018-12           3003592.32\n",
       "2019-01          11408879.00\n",
       "2019-02            323960.00\n",
       "2019-03            955742.80\n",
       "2019-04            662418.00\n",
       "2019-05           1757913.85\n",
       "2019-07            675233.00\n",
       "2019-08            243750.00\n",
       "2019-12              8000.00"
      ]
     },
     "execution_count": 52,
     "metadata": {},
     "output_type": "execute_result"
    }
   ],
   "source": [
    "# debugging df.plot() \n",
    "# bug to fix in future work : somehow the date is being changed to cover two full calendar years, not one full tax year\n",
    "# visualize the data produced into a new dataframe prior to plotting\n",
    "# pandas data offset strings documentation: https://pandas.pydata.org/docs/user_guide/timeseries.html#offset-aliases\n",
    "date_value_df = df.groupby(df['Date of Award'].dt.to_period('M')).sum()\n",
    "date_value_df"
   ]
  },
  {
   "cell_type": "code",
   "execution_count": 53,
   "id": "4d172843",
   "metadata": {},
   "outputs": [
    {
     "data": {
      "text/plain": [
       "108023082.62"
      ]
     },
     "execution_count": 53,
     "metadata": {},
     "output_type": "execute_result"
    }
   ],
   "source": [
    "# debugging df.plot()\n",
    "# trial debugging - check the new dataframe hasnt distorted the total awarded sum\n",
    "date_value_df['Awarded value'].sum()"
   ]
  },
  {
   "cell_type": "code",
   "execution_count": 54,
   "id": "85da846e",
   "metadata": {},
   "outputs": [
    {
     "data": {
      "text/plain": [
       "108023082.62"
      ]
     },
     "execution_count": 54,
     "metadata": {},
     "output_type": "execute_result"
    }
   ],
   "source": [
    "# debugging df.plot()\n",
    "df['Awarded value'].sum()"
   ]
  },
  {
   "cell_type": "code",
   "execution_count": 55,
   "id": "60ed9a0b",
   "metadata": {},
   "outputs": [
    {
     "data": {
      "text/plain": [
       "<AxesSubplot:xlabel='Date of Award'>"
      ]
     },
     "execution_count": 55,
     "metadata": {},
     "output_type": "execute_result"
    },
    {
     "data": {
      "image/png": "[encoded data removed]",
      "text/plain": [
       "<Figure size 1152x576 with 1 Axes>"
      ]
     },
     "metadata": {
      "needs_background": "light"
     },
     "output_type": "display_data"
    }
   ],
   "source": [
    "# debugging df.plot()\n",
    "# plot the 'date_value_df' dataframe values as an area plot\n",
    "date_value_df.plot(figsize = plot_size_rectangle, kind='area')"
   ]
  }
 ],
 "metadata": {
  "kernelspec": {
   "display_name": "Python 3",
   "language": "python",
   "name": "python3"
  },
  "language_info": {
   "codemirror_mode": {
    "name": "ipython",
    "version": 3
   },
   "file_extension": ".py",
   "mimetype": "text/x-python",
   "name": "python",
   "nbconvert_exporter": "python",
   "pygments_lexer": "ipython3",
   "version": "3.8.10"
  }
 },
 "nbformat": 4,
 "nbformat_minor": 5
}
